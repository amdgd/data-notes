{
 "cells": [
  {
   "cell_type": "markdown",
   "metadata": {},
   "source": [
    "# Tutorial Brief"
   ]
  },
  {
   "cell_type": "markdown",
   "metadata": {},
   "source": [
    "Handling the wivents of widgets using:\n",
    "\n",
    "- on_click()\n",
    "- on_trait_change()\n",
    "\n",
    "**Video Tutorial**: http://youtu.be/hXS4xhyx0a8"
   ]
  },
  {
   "cell_type": "code",
   "execution_count": 1,
   "metadata": {},
   "outputs": [
    {
     "name": "stderr",
     "output_type": "stream",
     "text": [
      "/opt/conda/envs/python2/lib/python2.7/site-packages/IPython/html.py:14: ShimWarning: The `IPython.html` package has been deprecated since IPython 4.0. You should import from `notebook` instead. `IPython.html.widgets` has moved to `ipywidgets`.\n",
      "  \"`IPython.html.widgets` has moved to `ipywidgets`.\", ShimWarning)\n"
     ]
    }
   ],
   "source": [
    "from IPython.html import widgets"
   ]
  },
  {
   "cell_type": "markdown",
   "metadata": {},
   "source": [
    "## `widgets.on_click()`"
   ]
  },
  {
   "cell_type": "code",
   "execution_count": 2,
   "metadata": {},
   "outputs": [
    {
     "ename": "AttributeError",
     "evalue": "ContainerWidget",
     "output_type": "error",
     "traceback": [
      "\u001b[0;31m\u001b[0m",
      "\u001b[0;31mAttributeError\u001b[0mTraceback (most recent call last)",
      "\u001b[0;32m<ipython-input-2-383caa387392>\u001b[0m in \u001b[0;36m<module>\u001b[0;34m()\u001b[0m\n\u001b[1;32m      2\u001b[0m     \u001b[0;32mprint\u001b[0m\u001b[0;34m(\u001b[0m \u001b[0;34m\"You have clicked (%s)\"\u001b[0m \u001b[0;34m%\u001b[0m \u001b[0mwidget\u001b[0m\u001b[0;34m.\u001b[0m\u001b[0mdescription\u001b[0m\u001b[0;34m)\u001b[0m\u001b[0;34m\u001b[0m\u001b[0m\n\u001b[1;32m      3\u001b[0m \u001b[0;34m\u001b[0m\u001b[0m\n\u001b[0;32m----> 4\u001b[0;31m \u001b[0mcontainer\u001b[0m \u001b[0;34m=\u001b[0m \u001b[0mwidgets\u001b[0m\u001b[0;34m.\u001b[0m\u001b[0mContainerWidget\u001b[0m\u001b[0;34m(\u001b[0m\u001b[0;34m)\u001b[0m\u001b[0;34m\u001b[0m\u001b[0m\n\u001b[0m\u001b[1;32m      5\u001b[0m \u001b[0;34m\u001b[0m\u001b[0m\n\u001b[1;32m      6\u001b[0m \u001b[0mbutton_1\u001b[0m \u001b[0;34m=\u001b[0m \u001b[0mwidgets\u001b[0m\u001b[0;34m.\u001b[0m\u001b[0mButtonWidget\u001b[0m\u001b[0;34m(\u001b[0m\u001b[0mdescription\u001b[0m\u001b[0;34m=\u001b[0m\u001b[0;34m\"Click Me\"\u001b[0m\u001b[0;34m)\u001b[0m\u001b[0;34m\u001b[0m\u001b[0m\n",
      "\u001b[0;32m/opt/conda/envs/python2/lib/python2.7/site-packages/IPython/utils/shimmodule.pyc\u001b[0m in \u001b[0;36m__getattr__\u001b[0;34m(self, key)\u001b[0m\n\u001b[1;32m     90\u001b[0m             \u001b[0;32mreturn\u001b[0m \u001b[0mimport_item\u001b[0m\u001b[0;34m(\u001b[0m\u001b[0mname\u001b[0m\u001b[0;34m)\u001b[0m\u001b[0;34m\u001b[0m\u001b[0m\n\u001b[1;32m     91\u001b[0m         \u001b[0;32mexcept\u001b[0m \u001b[0mImportError\u001b[0m\u001b[0;34m:\u001b[0m\u001b[0;34m\u001b[0m\u001b[0m\n\u001b[0;32m---> 92\u001b[0;31m             \u001b[0;32mraise\u001b[0m \u001b[0mAttributeError\u001b[0m\u001b[0;34m(\u001b[0m\u001b[0mkey\u001b[0m\u001b[0;34m)\u001b[0m\u001b[0;34m\u001b[0m\u001b[0m\n\u001b[0m",
      "\u001b[0;31mAttributeError\u001b[0m: ContainerWidget"
     ]
    }
   ],
   "source": [
    "def print_msg(widget):\n",
    "    print( \"You have clicked (%s)\" % widget.description)\n",
    "\n",
    "container = widgets.ContainerWidget()\n",
    "\n",
    "button_1 = widgets.ButtonWidget(description=\"Click Me\")\n",
    "button_2 = widgets.ButtonWidget(description=\"Don't Click Me\")\n",
    "\n",
    "button_1.on_click(print_msg)\n",
    "button_2.on_click(print_msg)\n",
    "\n",
    "container.children = [button_1, button_2]\n",
    "\n",
    "container"
   ]
  },
  {
   "cell_type": "markdown",
   "metadata": {},
   "source": [
    "## `widget.on_trait_change()`"
   ]
  },
  {
   "cell_type": "code",
   "execution_count": 3,
   "metadata": {},
   "outputs": [
    {
     "ename": "SyntaxError",
     "evalue": "invalid syntax (<ipython-input-3-1065642b72cb>, line 28)",
     "output_type": "error",
     "traceback": [
      "\u001b[0;36m  File \u001b[0;32m\"<ipython-input-3-1065642b72cb>\"\u001b[0;36m, line \u001b[0;32m28\u001b[0m\n\u001b[0;31m    print \"%s = %s\" % (formula, control_5.value)\u001b[0m\n\u001b[0m                  ^\u001b[0m\n\u001b[0;31mSyntaxError\u001b[0m\u001b[0;31m:\u001b[0m invalid syntax\n"
     ]
    }
   ],
   "source": [
    "container = widgets.ContainerWidget()\n",
    "\n",
    "control_1 = widgets.FloatTextWidget(description=\"X: \")\n",
    "control_2 = widgets.FloatTextWidget(description=\"Y: \")\n",
    "control_3 = widgets.SelectWidget(description= \"Operation\", values=[\"+\",\"-\",\"*\",\"/\"])\n",
    "control_4 = widgets.LatexWidget(value=\"Formula: NA\")\n",
    "control_5 = widgets.LatexWidget(value=\"Result: 0.0\")\n",
    "\n",
    "container.children = [control_1, control_2, control_3, control_4, control_5]\n",
    "\n",
    "def calculate_form(name):\n",
    "    # Retreive values from form\n",
    "    form = container.children\n",
    "    X = form[0].value\n",
    "    Y = form[1].value\n",
    "    operation = form[2].value\n",
    "    \n",
    "    # Build Fomula\n",
    "    formula = str(X) + operation + str(Y)\n",
    "    form[3].value = \"Formula: %s\" % formula\n",
    "    \n",
    "    # Check if Divive by Zero\n",
    "    if Y == 0.0 and operation == \"/\":\n",
    "        form[4].value = \"Div by Zero\"\n",
    "    else:\n",
    "        # Evaluate fumula\n",
    "        form[4].value = str(eval(formula))\n",
    "    print \"%s = %s\" % (formula, control_5.value)\n",
    "\n",
    "# Add Handlers\n",
    "control_1.on_trait_change(calculate_form, \"value\")\n",
    "control_2.on_trait_change(calculate_form, \"value\")\n",
    "control_3.on_trait_change(calculate_form, \"value\")\n",
    "\n",
    "container"
   ]
  },
  {
   "cell_type": "code",
   "execution_count": 4,
   "metadata": {},
   "outputs": [
    {
     "name": "stdout",
     "output_type": "stream",
     "text": [
      "2.0/4.0 = 0.5\n",
      "2.2/4.0 = 0.55\n",
      "2.25/4.0 = 0.5625\n",
      "2.254/4.0 = 0.5635\n",
      "2.2547/4.0 = 0.563675\n",
      "2.25478/4.0 = 0.563695\n",
      "2.254785/4.0 = 0.56369625\n",
      "2.2547854/4.0 = 0.56369635\n",
      "2.25478546/4.0 = 0.563696365\n",
      "2.254785465/4.0 = 0.56369636625\n",
      "2.2547854658/4.0 = 0.56369636645\n",
      "2.25478546587/4.0 = 0.563696366467\n",
      "2.25478546588/4.0 = 0.56369636647\n",
      "2.25478546588/4.0 = 0.56369636647\n",
      "2.25478546588/4.0 = 0.56369636647\n",
      "2.25478546588/4.0 = 0.56369636647\n",
      "2.25478546588/4.4 = 0.512451242245\n",
      "2.25478546588/4.45 = 0.506693363119\n",
      "2.25478546588/4.458 = 0.505784088354\n",
      "2.25478546588/4.4585 = 0.505727367025\n",
      "2.25478546588/4.45854 = 0.505722829868\n",
      "2.25478546588/4.458542 = 0.505722603012\n",
      "2.25478546588/4.4585426 = 0.505722534956\n",
      "2.25478546588/4.45854264 = 0.505722530419\n",
      "2.25478546588/4.458542648 = 0.505722529511\n",
      "2.25478546588/4.4585426481 = 0.5057225295\n"
     ]
    }
   ],
   "source": [
    "container"
   ]
  }
 ],
 "metadata": {
  "kernelspec": {
   "display_name": "Python 3",
   "language": "python",
   "name": "python3"
  },
  "language_info": {
   "codemirror_mode": {
    "name": "ipython",
    "version": 3
   },
   "file_extension": ".py",
   "mimetype": "text/x-python",
   "name": "python",
   "nbconvert_exporter": "python",
   "pygments_lexer": "ipython3",
   "version": "3.5.2"
  }
 },
 "nbformat": 4,
 "nbformat_minor": 1
}
