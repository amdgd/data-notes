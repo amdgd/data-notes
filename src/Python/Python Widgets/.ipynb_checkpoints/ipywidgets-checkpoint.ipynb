{
 "cells": [
  {
   "cell_type": "code",
   "execution_count": 98,
   "metadata": {
    "collapsed": true
   },
   "outputs": [],
   "source": [
    "%matplotlib inline\n",
    "\n",
    "import seaborn as sns\n",
    "import numpy as np\n",
    "import matplotlib.pyplot as plt\n",
    "from ipywidgets import interact, HBox, Dropdown\n",
    "from IPython.display import clear_output\n",
    "\n",
    "df = sns.load_dataset('tips')\n"
   ]
  },
  {
   "cell_type": "code",
   "execution_count": 99,
   "metadata": {},
   "outputs": [
    {
     "data": {
      "image/png": "[encoded data removed]",
      "text/plain": [
       "<matplotlib.figure.Figure at 0x7f318ae072b0>"
      ]
     },
     "metadata": {},
     "output_type": "display_data"
    }
   ],
   "source": [
    "sns.boxplot(x=\"day\", y=\"total_bill\", hue=\"time\", data=df, palette=\"PRGn\")\n",
    "y_columns = [name for name in df.columns if df[name].dtype in [float, int]]\n",
    "x_columns = [name for name in df.columns if name not in y_columns]"
   ]
  },
  {
   "cell_type": "markdown",
   "metadata": {},
   "source": [
    "# ipywidgets @interact"
   ]
  },
  {
   "cell_type": "code",
   "execution_count": 172,
   "metadata": {},
   "outputs": [
    {
     "data": {
      "application/vnd.jupyter.widget-view+json": {
       "model_id": "64b8fc8652de413eb066cf8e1b4539fa"
      }
     },
     "metadata": {},
     "output_type": "display_data"
    }
   ],
   "source": [
    "@interact(x=x_columns, y=y_columns, hue=x_columns)\n",
    "def interact_plot(x, y, hue):\n",
    "    sns.boxplot(x=x, y=y, hue=hue, data=df, palette=\"PRGn\")\n",
    "    plt.show()\n",
    "    \n",
    "    #plt.clf() clears an axis, i.e. the currently active axis in the current figure. \n",
    "    #It leaves the other axes untouched.\n",
    "    #plt.clf()\n",
    "    \n",
    "    #plt.cla() clears the entire current figure with all its axes, \n",
    "    #but leaves the window opened, such that it may be reused for other plots.\n",
    "    #plt.cla() \n",
    "    \n",
    "    #plt.close() closes a window, which will be the current window, if not specified otherwise.\n",
    "    plt.close()\n",
    "   "
   ]
  },
  {
   "cell_type": "markdown",
   "metadata": {},
   "source": [
    "# ipywidgets @interact with labels"
   ]
  },
  {
   "cell_type": "code",
   "execution_count": 193,
   "metadata": {},
   "outputs": [
    {
     "data": {
      "application/vnd.jupyter.widget-view+json": {
       "model_id": "ff2797cfdce743648351020731bef5df"
      }
     },
     "metadata": {},
     "output_type": "display_data"
    }
   ],
   "source": [
    "@interact_manual(x=Dropdown(description='Plot', options=x_columns, value='day'), \n",
    "          y=Dropdown(description='versus', options=y_columns, value='total_bill'),\n",
    "          hue=Dropdown(description='colored by', options=x_columns, value='sex') )\n",
    "\n",
    "def interact_plot(x, y, hue):\n",
    "    sns.boxplot(x=x, y=y, hue=hue, data=df, palette=\"PRGn\")\n",
    "    plt.show()\n",
    "    plt.close()"
   ]
  },
  {
   "cell_type": "code",
   "execution_count": 138,
   "metadata": {},
   "outputs": [
    {
     "data": {
      "application/vnd.jupyter.widget-view+json": {
       "model_id": "b9879669aa7d4a09baf7570fbaf57810"
      }
     },
     "metadata": {},
     "output_type": "display_data"
    },
    {
     "name": "stdout",
     "output_type": "stream",
     "text": [
      "Button clicked.\n"
     ]
    }
   ],
   "source": [
    "button = widgets.Button(description=\"Click Me!\")\n",
    "display(button)\n",
    "\n",
    "def on_button_clicked(b):\n",
    "    print(\"Button clicked.\")\n",
    "\n",
    "button.on_click(on_button_clicked)"
   ]
  },
  {
   "cell_type": "markdown",
   "metadata": {},
   "source": [
    "# ipywidgets manual"
   ]
  },
  {
   "cell_type": "code",
   "execution_count": 102,
   "metadata": {
    "collapsed": true
   },
   "outputs": [],
   "source": [
    "def hbox_plot(widget):\n",
    "    sns.boxplot(x=x_drop.value, y=y_drop.value, hue=hue_drop.value, data=df, palette=\"PRGn\")\n",
    "    clear_output(wait=True)"
   ]
  },
  {
   "cell_type": "code",
   "execution_count": 103,
   "metadata": {
    "scrolled": true
   },
   "outputs": [
    {
     "data": {
      "image/png": "[encoded data removed]",
      "text/plain": [
       "<matplotlib.figure.Figure at 0x7f318aa8f898>"
      ]
     },
     "metadata": {},
     "output_type": "display_data"
    }
   ],
   "source": [
    "x_drop = Dropdown(description='Plot', options=x_columns, value='day')\n",
    "y_drop = Dropdown(description='versus', options=y_columns, value='total_bill')\n",
    "hue_drop = Dropdown(description='colored by', options=x_columns, value='sex')\n",
    "\n",
    "x_drop.observe(hbox_plot, names='value')\n",
    "y_drop.observe(hbox_plot, names='value')\n",
    "hue_drop.observe(hbox_plot, names='value')\n",
    "\n",
    "box = HBox([x_drop, y_drop, hue_drop])\n",
    "box.on_displayed(hbox_plot)\n",
    "box"
   ]
  },
  {
   "cell_type": "markdown",
   "metadata": {},
   "source": [
    "# Plot "
   ]
  },
  {
   "cell_type": "code",
   "execution_count": 68,
   "metadata": {},
   "outputs": [
    {
     "data": {
      "application/vnd.jupyter.widget-view+json": {
       "model_id": "84586f11b66044c6a7ccecc695e18cce"
      }
     },
     "metadata": {},
     "output_type": "display_data"
    }
   ],
   "source": [
    "@interact(hue=[name for name in df.columns if str(df[name].dtype) in [str('object'), str('category')]])\n",
    "def plot(hue):\n",
    "    _ = sns.pairplot(df, hue=hue)\n",
    "    plt.show()\n",
    "    plt.close()"
   ]
  }
 ],
 "metadata": {
  "kernelspec": {
   "display_name": "Python 3",
   "language": "python",
   "name": "python3"
  },
  "language_info": {
   "codemirror_mode": {
    "name": "ipython",
    "version": 3
   },
   "file_extension": ".py",
   "mimetype": "text/x-python",
   "name": "python",
   "nbconvert_exporter": "python",
   "pygments_lexer": "ipython3",
   "version": "3.5.2"
  }
 },
 "nbformat": 4,
 "nbformat_minor": 2
}
