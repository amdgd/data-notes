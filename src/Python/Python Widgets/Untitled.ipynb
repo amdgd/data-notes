{
 "cells": [
  {
   "cell_type": "code",
   "execution_count": 17,
   "metadata": {},
   "outputs": [
    {
     "name": "stdout",
     "output_type": "stream",
     "text": [
      "required argument\n",
      "--\n",
      "required argument\n",
      "(1, 2, 'a')\n",
      "--\n",
      "required argument\n",
      "(1, 2, 'a')\n",
      "{'keyword2': 'foo', 'keyword1': 4}\n",
      "--\n",
      "2000 T1 1000 T2\n",
      "We have 49 hectares planted to okra.\n"
     ]
    }
   ],
   "source": [
    "def func(required_arg, *args, **kwargs):\n",
    "    # required_arg is a positional-only parameter.\n",
    "    print(required_arg)\n",
    "\n",
    "    # args is a tuple of positional arguments,\n",
    "    # because the parameter name has * prepended.\n",
    "    if args: # If args is not empty.\n",
    "        print(args)\n",
    "\n",
    "    # kwargs is a dictionary of keyword arguments,\n",
    "    # because the parameter name has ** prepended.\n",
    "    if kwargs: # If kwargs is not empty.\n",
    "        print(kwargs)\n",
    "\n",
    "#func()\n",
    "func(\"required argument\")\n",
    "print(\"--\")\n",
    "func(\"required argument\", 1, 2, 'a')\n",
    "print(\"--\")\n",
    "func(\"required argument\", 1, 2, 'a', keyword1=4, keyword2=\"foo\")\n",
    "print(\"--\")\n",
    "\n",
    "\n",
    "mynum = 1000\n",
    "mystr = 2000\n",
    "print(\"{mystr} T1 {mynum} T2\".format(**locals()))\n",
    "\n",
    "\n",
    "print(\"We have {num} hectares planted to {str}.\".format(num=49, str=\"okra\"))"
   ]
  }
 ],
 "metadata": {
  "kernelspec": {
   "display_name": "Python 3",
   "language": "python",
   "name": "python3"
  },
  "language_info": {
   "codemirror_mode": {
    "name": "ipython",
    "version": 3
   },
   "file_extension": ".py",
   "mimetype": "text/x-python",
   "name": "python",
   "nbconvert_exporter": "python",
   "pygments_lexer": "ipython3",
   "version": "3.5.2"
  }
 },
 "nbformat": 4,
 "nbformat_minor": 2
}
