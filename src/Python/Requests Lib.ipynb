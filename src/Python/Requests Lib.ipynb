{
 "cells": [
  {
   "cell_type": "markdown",
   "metadata": {},
   "source": [
    "http://docs.python-requests.org/en/latest/index.html#\n",
    "\n",
    "```\n",
    "import requests\n",
    "...\n",
    "\n",
    "resp = requests.get('http://www.mywebsite.com/user')\n",
    "resp = requests.post('http://www.mywebsite.com/user')\n",
    "resp = requests.put('http://www.mywebsite.com/user/put')\n",
    "resp = requests.delete('http://www.mywebsite.com/user/delete')\n",
    "\n",
    "```\n",
    "Regardless of whether GET/POST you never have to encode parameters again, it simply takes a dictionary as an argument and is good to go.\n",
    "\n",
    "```\n",
    "userdata = {\"firstname\": \"John\", \"lastname\": \"Doe\", \"password\": \"jdoe123\"}\n",
    "resp = requests.post('http://www.mywebsite.com/user', data=userdata)\n",
    "```\n",
    "Plus it even has a built in json decoder (again, i know json.loads() isn't a lot more to write, but this sure is convenient):\n",
    "```\n",
    "resp.json()\n",
    "```\n",
    "Or if your response data is just text, use:\n",
    "```\n",
    "resp.text\n",
    "```"
   ]
  }
 ],
 "metadata": {
  "kernelspec": {
   "display_name": "Python 3",
   "language": "python",
   "name": "python3"
  },
  "language_info": {
   "codemirror_mode": {
    "name": "ipython",
    "version": 3
   },
   "file_extension": ".py",
   "mimetype": "text/x-python",
   "name": "python",
   "nbconvert_exporter": "python",
   "pygments_lexer": "ipython3",
   "version": "3.5.2"
  }
 },
 "nbformat": 4,
 "nbformat_minor": 2
}
