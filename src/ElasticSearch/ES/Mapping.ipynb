{
 "cells": [
  {
   "cell_type": "code",
   "execution_count": 2,
   "metadata": {},
   "outputs": [
    {
     "name": "stdout",
     "output_type": "stream",
     "text": [
      "<Elasticsearch([{'port': 9200, 'host': '34.205.15.150'}])>\n"
     ]
    }
   ],
   "source": [
    "#Few libraries we will using \n",
    "#!pip install ujson requests elasticsearch ipywidgets certifi elasticsearch_dsl\n",
    "#!pip install -U certifi\n",
    "#!pip install faker\n",
    "from faker import Faker\n",
    "import requests\n",
    "import ujson as json\n",
    "from elasticsearch import Elasticsearch\n",
    "from elasticsearch import helpers\n",
    "from elasticsearch_dsl import Search, DocType, Date, Integer, Keyword, Text\n",
    "from datetime import datetime\n",
    "from elasticsearch_dsl.connections import connections\n",
    "import pandas as pd\n",
    "from ipywidgets import interact, interactive, fixed, interact_manual, HBox, Dropdown\n",
    "from IPython.display import clear_output\n",
    "\n",
    "fake = Faker()\n",
    "ES_HOST = 'http://34.205.15.150:9200'\n",
    "INDEX ='newyork'\n",
    "DOC_TYPE = 'tweet'\n",
    "es = Elasticsearch(ES_HOST)\n",
    "print(es)\n",
    "esurl = ES_HOST+\"/\"+INDEX+\"/\"+DOC_TYPE+\"/\" \n",
    "# esurl to be used whenver makeing CURL requests via requests library"
   ]
  },
  {
   "cell_type": "code",
   "execution_count": null,
   "metadata": {
    "collapsed": true
   },
   "outputs": [],
   "source": [
    "es.mpercolat"
   ]
  }
 ],
 "metadata": {
  "kernelspec": {
   "display_name": "Python 3",
   "language": "python",
   "name": "python3"
  },
  "language_info": {
   "codemirror_mode": {
    "name": "ipython",
    "version": 3
   },
   "file_extension": ".py",
   "mimetype": "text/x-python",
   "name": "python",
   "nbconvert_exporter": "python",
   "pygments_lexer": "ipython3",
   "version": "3.5.2"
  }
 },
 "nbformat": 4,
 "nbformat_minor": 2
}
