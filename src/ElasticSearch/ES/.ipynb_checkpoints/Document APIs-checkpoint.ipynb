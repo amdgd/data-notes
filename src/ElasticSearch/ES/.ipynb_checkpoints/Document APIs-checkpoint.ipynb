{
 "cells": [
  {
   "cell_type": "markdown",
   "metadata": {},
   "source": [
    "# 1. Single document APIs\n",
    "- 1.1 Index API\n",
    "- 1.2 Get API\n",
    "- 1.3 Delete API\n",
    "- 1.4 Update API"
   ]
  },
  {
   "cell_type": "markdown",
   "metadata": {},
   "source": []
  },
  {
   "cell_type": "code",
   "execution_count": 88,
   "metadata": {},
   "outputs": [
    {
     "name": "stdout",
     "output_type": "stream",
     "text": [
      "<Elasticsearch([{'port': 9200, 'host': '34.205.15.150'}])>\n"
     ]
    }
   ],
   "source": [
    "#Few libraries we will using \n",
    "#!pip install ujson requests elasticsearch ipywidgets certifi elasticsearch_dsl\n",
    "#!pip install -U certifi\n",
    "#!pip install faker\n",
    "from faker import Faker\n",
    "import requests\n",
    "import ujson as json\n",
    "from elasticsearch import Elasticsearch\n",
    "from elasticsearch import helpers\n",
    "from elasticsearch_dsl import Search, DocType, Date, Integer, Keyword, Text\n",
    "from datetime import datetime\n",
    "from elasticsearch_dsl.connections import connections\n",
    "import pandas as pd\n",
    "from ipywidgets import interact, interactive, fixed, interact_manual, HBox, Dropdown\n",
    "from IPython.display import clear_output\n",
    "\n",
    "fake = Faker()\n",
    "ES_HOST = 'http://34.205.15.150:9200'\n",
    "INDEX ='newyork'\n",
    "DOC_TYPE = 'tweet'\n",
    "es = Elasticsearch(ES_HOST)\n",
    "print(es)\n",
    "esurl = ES_HOST+\"/\"+INDEX+\"/\"+DOC_TYPE+\"/\" \n",
    "# esurl to be used whenver makeing CURL requests via requests library"
   ]
  },
  {
   "cell_type": "markdown",
   "metadata": {},
   "source": [
    "### 1.1 Index API\n",
    "The index API **adds** or **updates** a typed JSON document in a specific index, making it searchable. \n",
    "\n",
    "```javascript\n",
    "PUT twitter/tweet/1\n",
    "{\n",
    "    \"user\" : \"kimchy\",\n",
    "    \"post_date\" : \"2009-11-15T14:12:12\",\n",
    "    \"message\" : \"trying out Elasticsearch\"\n",
    "}\n",
    "```"
   ]
  },
  {
   "cell_type": "code",
   "execution_count": null,
   "metadata": {},
   "outputs": [],
   "source": [
    "## Index a document. This will update the document is the document is already there.\n",
    "## We are using faker package to generate random values\n",
    "doc = {\n",
    "    'author': fake.name(),\n",
    "    'text': fake.text(),\n",
    "    'timestamp': datetime.now(),\n",
    "}\n",
    "#this is via standard CURL\n",
    "res = es.index(index=INDEX, doc_type=DOC_TYPE, id=fake.uuid4(), body=doc)\n",
    "print(doc)\n",
    "print(res['result'])\n",
    "\n",
    "\n",
    "#this is via python Elasticsearch Library\n",
    "res = requests.put(url=str(esurl+fake.uuid4()+'/'), data=json.dumps(doc))\n",
    "print(res.json()['result'])"
   ]
  },
  {
   "cell_type": "code",
   "execution_count": 113,
   "metadata": {
    "scrolled": false
   },
   "outputs": [
    {
     "name": "stdout",
     "output_type": "stream",
     "text": [
      "created\n",
      "created\n",
      "created\n"
     ]
    }
   ],
   "source": [
    "## Create a document. This will throw an error if document is already there.\n",
    "doc = {\n",
    "    'author': fake.name(),\n",
    "    'text': fake.text(),\n",
    "    'timestamp': fake.date(),\n",
    "}\n",
    "\n",
    "\n",
    "res = es.create(index=INDEX, doc_type=DOC_TYPE, id=fake.uuid4(), body=json.dumps(doc))\n",
    "print(res['result'])\n",
    "\n",
    "res = requests.put(url=str(esurl+fake.uuid4()+'/'), data=data)\n",
    "print(res.json()['result'])\n",
    "\n",
    "\n",
    "res = es.create(index=INDEX, doc_type=DOC_TYPE, id=21189, body=doc, ignore=[400, 404, 409])\n",
    "print(res['result'])\n",
    "\n",
    "\n"
   ]
  },
  {
   "cell_type": "markdown",
   "metadata": {},
   "source": [
    "#### Difference between POST and PUT \n",
    "POST basically that you are posting a request which is going to modify the server state. POST index/type { \"foo\": \"bar\" } will generate an id server side and will index the document with this _id. PUT is used to send a resource to the server. PUT index/type/id { \"foo\": \"bar\" } will put or update a document named index/type/id in the server.\n",
    "\n",
    "\n",
    "POST twitter/tweet/\n",
    "{\n",
    "    \"user\" : \"kimchy\",\n",
    "    \"post_date\" : \"2009-11-15T14:12:12\",\n",
    "    \"message\" : \"trying out Elasticsearch\"\n",
    "}\n"
   ]
  },
  {
   "cell_type": "code",
   "execution_count": 83,
   "metadata": {},
   "outputs": [
    {
     "name": "stdout",
     "output_type": "stream",
     "text": [
      "{\"_index\":\"newyork\",\"_type\":\"tweet\",\"_id\":\"AVxK49AkolUah3iSfjOF\",\"_version\":1,\"result\":\"created\",\"_shards\":{\"total\":2,\"successful\":1,\"failed\":0},\"created\":true}\n"
     ]
    }
   ],
   "source": [
    "## We are using POST instead of PUT since we are not sending ID and relying on ES to Auto-generate an ID\n",
    "jsondata = {\"user\" : \"kimchy990\",\"post_date\" : \"2009-11-15T14:12:12\",\"message\" : \"trying out Elasticsearch\"}\n",
    "url = ES_HOST+\"/\"+INDEX+\"/\"+DOC_TYPE+\"/\"\n",
    "\n",
    "#res = requests.post(url, json=json)\n",
    "res = requests.post(url, data=json.dumps(jsondata))\n",
    "print(res.text)"
   ]
  },
  {
   "cell_type": "markdown",
   "metadata": {},
   "source": [
    "### 1.2 Get API\n",
    "The get API allows to get a typed JSON document from the index based on its id.\n",
    "\n",
    "GET twitter/tweet/0?_source=false"
   ]
  },
  {
   "cell_type": "code",
   "execution_count": 62,
   "metadata": {},
   "outputs": [
    {
     "name": "stdout",
     "output_type": "stream",
     "text": [
      "_type, is tweet\n",
      "_index, is newyork\n",
      "found, is True\n",
      "_source, is {'text': 'Elasticsearch: cool. bonsai cool.', 'author': 'kimchy', 'timestamp': '2017-05-27T14:10:24.195028'}\n",
      "_id, is 20\n",
      "_version, is 1\n"
     ]
    }
   ],
   "source": [
    "id=20\n",
    "res = es.get(INDEX, id, doc_type=DOC_TYPE, params={\"_source\":\"true\"}) #params is optional\n",
    "for key in res:\n",
    "    print(\"{a}, is {b}\".format(a=key, b=res[key]))\n",
    "\n",
    "\n",
    "## ======\n",
    "## NOTE\n",
    "## ======\n",
    "## The _source field contains the original JSON document body that was passed at index time.\n",
    "## The _source field itself is not indexed (and thus is not searchable), \n",
    "## but it is stored so that it can be returned when executing fetch requests"
   ]
  },
  {
   "cell_type": "code",
   "execution_count": null,
   "metadata": {
    "collapsed": true
   },
   "outputs": [],
   "source": []
  }
 ],
 "metadata": {
  "kernelspec": {
   "display_name": "Python 3",
   "language": "python",
   "name": "python3"
  },
  "language_info": {
   "codemirror_mode": {
    "name": "ipython",
    "version": 3
   },
   "file_extension": ".py",
   "mimetype": "text/x-python",
   "name": "python",
   "nbconvert_exporter": "python",
   "pygments_lexer": "ipython3",
   "version": "3.5.2"
  }
 },
 "nbformat": 4,
 "nbformat_minor": 2
}
