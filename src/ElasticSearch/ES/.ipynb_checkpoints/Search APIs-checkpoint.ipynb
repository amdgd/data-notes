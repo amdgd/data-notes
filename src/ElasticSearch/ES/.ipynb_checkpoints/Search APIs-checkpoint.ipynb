{
 "cells": [
  {
   "cell_type": "markdown",
   "metadata": {},
   "source": [
    "# Search API"
   ]
  },
  {
   "cell_type": "code",
   "execution_count": 1,
   "metadata": {},
   "outputs": [
    {
     "name": "stdout",
     "output_type": "stream",
     "text": [
      "<Elasticsearch([{'host': '34.205.15.150', 'port': 9200}])>\n"
     ]
    }
   ],
   "source": [
    "#Few libraries we will using \n",
    "#!pip install ujson requests elasticsearch ipywidgets certifi elasticsearch_dsl\n",
    "#!pip install -U certifi\n",
    "#!pip install faker\n",
    "from faker import Faker\n",
    "import requests\n",
    "import ujson as json\n",
    "from elasticsearch import Elasticsearch\n",
    "from elasticsearch import helpers\n",
    "from elasticsearch_dsl import Search, DocType, Date, Integer, Keyword, Text\n",
    "from datetime import datetime\n",
    "from elasticsearch_dsl.connections import connections\n",
    "import pandas as pd\n",
    "from ipywidgets import interact, interactive, fixed, interact_manual, HBox, Dropdown\n",
    "from IPython.display import clear_output\n",
    "\n",
    "fake = Faker()\n",
    "ES_HOST = 'http://34.205.15.150:9200'\n",
    "INDEX ='newyork'\n",
    "DOC_TYPE = 'tweet'\n",
    "es = Elasticsearch(ES_HOST)\n",
    "print(es)\n",
    "esurl = ES_HOST+\"/\"+INDEX+\"/\"+DOC_TYPE+\"/\" \n",
    "# esurl to be used whenver makeing CURL requests via requests library"
   ]
  },
  {
   "cell_type": "markdown",
   "metadata": {},
   "source": [
    "```javscript\n",
    "GET /_search\n",
    "{\n",
    "    \"query\" : {\n",
    "        \"term\" : { \"user\" : \"kimchy\" }\n",
    "    }\n",
    "}\n",
    "```"
   ]
  },
  {
   "cell_type": "code",
   "execution_count": 123,
   "metadata": {},
   "outputs": [
    {
     "name": "stdout",
     "output_type": "stream",
     "text": [
      "{'timestamp': 1490605020, 'bids': [459, 66], 'user': 'abc', 'text': 'Reiciendis quis qui nam fugiat nesciunt. Ipsum vero eaque aut vero.', 'age': 3}\n"
     ]
    }
   ],
   "source": [
    "doc = {\n",
    "    \"query\" : {\n",
    "        \"term\" : { \"user\" : \"abc\" }\n",
    "    }\n",
    "}\n",
    "res = es.search(index=INDEX, doc_type=DOC_TYPE, body=json.dumps(doc))\n",
    "print(res['hits']['hits'][0]['_source'])"
   ]
  },
  {
   "cell_type": "code",
   "execution_count": 166,
   "metadata": {},
   "outputs": [],
   "source": [
    "## Lets Put 1000 tweets with name ABC\n",
    "for i in range(0,25):\n",
    "    doc = {\n",
    "    'user': 'abc',\n",
    "    'text': fake.text(),\n",
    "    'age': int(fake.numerify('##')),\n",
    "    'bids': '',\n",
    "    #'bids': [int(fake.numerify('##')), int(fake.numerify('##'))],\n",
    "    'timestamp': fake.date_time_this_year(),\n",
    "    }\n",
    "    res = es.index(index=INDEX, doc_type=DOC_TYPE, id=i, body=json.dumps(doc))\n",
    "   \n",
    "    \n"
   ]
  },
  {
   "cell_type": "code",
   "execution_count": 86,
   "metadata": {
    "scrolled": false
   },
   "outputs": [
    {
     "name": "stdout",
     "output_type": "stream",
     "text": [
      "--Simple Query--\n",
      "999\n",
      "--Search with size and starting from--\n",
      "25\n",
      "--Search simple sorting--\n",
      "abc whose 1 is posted on 2017-Jan-01\n",
      "abc whose 94 is posted on 2017-Jan-01\n",
      "abc whose 83 is posted on 2017-Jan-01\n",
      "abc whose 20 is posted on 2017-Jan-01\n",
      "abc whose 70 is posted on 2017-Jan-02\n",
      "abc whose 32 is posted on 2017-Jan-02\n",
      "abc whose 29 is posted on 2017-Jan-02\n",
      "abc whose 43 is posted on 2017-Jan-02\n",
      "abc whose 68 is posted on 2017-Jan-02\n",
      "abc whose 2 is posted on 2017-Jan-02\n",
      "abc whose 80 is posted on 2017-Jan-03\n",
      "abc whose 4 is posted on 2017-Jan-03\n",
      "abc whose 75 is posted on 2017-Jan-03\n",
      "abc whose 38 is posted on 2017-Jan-03\n",
      "abc whose 29 is posted on 2017-Jan-03\n",
      "--Search advance sorting--\n",
      "abc whose 99 is posted on 2017-Jan-03\n",
      "abc whose 99 is posted on 2017-Jan-14\n",
      "abc whose 99 is posted on 2017-Jan-31\n",
      "abc whose 99 is posted on 2017-Feb-03\n",
      "abc whose 99 is posted on 2017-Feb-06\n",
      "abc whose 99 is posted on 2017-Apr-06\n",
      "abc whose 99 is posted on 2017-Apr-22\n",
      "abc whose 99 is posted on 2017-Apr-22\n",
      "abc whose 99 is posted on 2017-May-02\n",
      "abc whose 99 is posted on 2017-May-16\n",
      "abc whose 99 is posted on 2017-May-21\n",
      "abc whose 98 is posted on 2017-Jan-11\n",
      "abc whose 98 is posted on 2017-Jan-23\n",
      "abc whose 98 is posted on 2017-Jan-30\n",
      "abc whose 98 is posted on 2017-Feb-15\n"
     ]
    }
   ],
   "source": [
    "## Simple Search\n",
    "doc = {\n",
    "    \"query\" : {\n",
    "        \"term\" : { \"user\" : 'abc' }\n",
    "    }\n",
    "}\n",
    "res = es.search(index=INDEX, doc_type=DOC_TYPE, body=json.dumps(doc))\n",
    "print(\"--Simple Query--\")\n",
    "print(res['hits']['total'])\n",
    "\n",
    "\n",
    "## Search with size and starting from\n",
    "doc = {\n",
    "    \"from\" : 0, \n",
    "    \"size\" : 25,\n",
    "    \"query\" : {\n",
    "        \"term\" : { \"user\" : \"abc\" }\n",
    "    }\n",
    "}\n",
    "res = es.search(index=INDEX, doc_type=DOC_TYPE, body=json.dumps(doc))\n",
    "print(\"--Search with size and starting from--\")\n",
    "print(len(res['hits']['hits']))\n",
    "\n",
    "## Search with sorting\n",
    "doc={\n",
    "    \"from\" : 0, \n",
    "    \"size\" : 15,\n",
    "    \"sort\" : [\n",
    "        { \"timestamp\" : {\"order\" : \"asc\"}},\n",
    "        \n",
    "    ],\n",
    "    \"query\" : {\n",
    "        \"term\" : { \"user\" : \"abc\" }\n",
    "    }\n",
    "}\n",
    "res = es.search(index=INDEX, doc_type=DOC_TYPE, body=json.dumps(doc))\n",
    "print(\"--Search simple sorting--\")\n",
    "for row in res['hits']['hits']:\n",
    "    time = datetime.datetime.fromtimestamp(\n",
    "        int(row['_source']['timestamp'])\n",
    "    ).strftime('%Y-%b-%d')\n",
    "    print(\"{user} whose {age} is posted on {time}\".format(age = row['_source']['age'],user = row['_source']['user'], time = time))\n",
    "#print(res['hits']['hits'])\n",
    "\n",
    "\n",
    "\n",
    "doc={\n",
    "    \"from\" : 0, \n",
    "    \"size\" : 15,\n",
    "    \"sort\" : [\n",
    "         { \"age\" : {\"order\" : \"desc\"} },\n",
    "         {\"timestamp\" : {\"order\" : \"asc\"}}\n",
    "       \n",
    "        \n",
    "    ],\n",
    "    \"query\" : {\n",
    "        \"term\" : { \"user\" : \"abc\" }\n",
    "    }\n",
    "}\n",
    "\n",
    "\n",
    "\n",
    "\n",
    "res = es.search(index=INDEX, doc_type=DOC_TYPE, body=json.dumps(doc))\n",
    "print(\"--Search advance sorting--\")\n",
    "for row in res['hits']['hits']:\n",
    "    time = datetime.datetime.fromtimestamp(\n",
    "        int(row['_source']['timestamp'])\n",
    "    ).strftime('%Y-%b-%d')\n",
    "    print(\"{user} whose {age} is posted on {time}\".format(age = row['_source']['age'],user = row['_source']['user'], time = time))\n",
    "#print(res['hits']['hits'])\n",
    "\n"
   ]
  },
  {
   "cell_type": "markdown",
   "metadata": {},
   "source": [
    "#### Memory Considerationsedit\n",
    "When sorting, the relevant sorted field values are loaded into memory. This means that per shard, there should be enough memory to contain them. For string based types, the field sorted on should not be analyzed / tokenized. For numeric types, if possible, it is recommended to explicitly set the type to narrower types (like short, integer and float)."
   ]
  },
  {
   "cell_type": "code",
   "execution_count": 169,
   "metadata": {},
   "outputs": [
    {
     "name": "stdout",
     "output_type": "stream",
     "text": [
      "--Search advance sorting--\n",
      "abc whose 48 is posted on 2017-Apr-29 has bids \n",
      "abc whose 39 is posted on 2017-Feb-28 has bids \n",
      "abc whose 99 is posted on 2017-Apr-13 has bids \n",
      "abc whose 58 is posted on 2017-Feb-22 has bids \n",
      "abc whose 46 is posted on 2017-Feb-06 has bids \n",
      "abc whose 94 is posted on 2017-Feb-26 has bids [0, 4]\n",
      "abc whose 60 is posted on 2017-Feb-25 has bids [5, 0]\n",
      "abc whose 90 is posted on 2017-Apr-25 has bids [30, 0]\n",
      "abc whose 40 is posted on 2017-Feb-22 has bids [0, 43]\n",
      "abc whose 9 is posted on 2017-Mar-08 has bids [45, 0]\n"
     ]
    }
   ],
   "source": [
    "doc={\n",
    "    \"from\" : 20, \n",
    "    \"size\" : 10,\n",
    "    \"query\" : {\n",
    "      \"term\" : { \"user\" : \"abc\" }\n",
    "   },\n",
    "   \"sort\" : [\n",
    "      {\"bids\" : {\"missing\" : \"_first\"} },\n",
    "      {\"bids\" : {\"order\" : \"asc\", \"mode\" : \"avg\"}}\n",
    "   ]\n",
    "}\n",
    "\n",
    "\n",
    "res = es.search(index=INDEX, doc_type=DOC_TYPE, body=json.dumps(doc))\n",
    "print(\"--Search advance sorting--\")\n",
    "for row in res['hits']['hits']:\n",
    "    time = datetime.datetime.fromtimestamp(\n",
    "        int(row['_source']['timestamp'])\n",
    "    ).strftime('%Y-%b-%d')\n",
    "    print(\"{user} whose {age} is posted on {time} has bids {bids}\".format(bids = row['_source']['bids'],\n",
    "                                                          age = row['_source']['age'],user = row['_source']['user'], time = time))\n",
    "#print(res['hits']['hits'])"
   ]
  },
  {
   "cell_type": "markdown",
   "metadata": {},
   "source": [
    "### Source filteringe\n",
    "Allows to control how the _source field is returned with every hit."
   ]
  },
  {
   "cell_type": "code",
   "execution_count": null,
   "metadata": {
    "collapsed": true
   },
   "outputs": [],
   "source": [
    "GET /_search\n",
    "{\n",
    "    \"_source\": [ \"obj1.*\", \"obj2.*\" ],\n",
    "    \"query\" : {\n",
    "        \"term\" : { \"user\" : \"kimchy\" }\n",
    "    }\n",
    "}"
   ]
  },
  {
   "cell_type": "code",
   "execution_count": 174,
   "metadata": {},
   "outputs": [
    {
     "name": "stdout",
     "output_type": "stream",
     "text": [
      "{'user': 'abc', 'bids': [12, 43]}\n"
     ]
    }
   ],
   "source": [
    "data={\n",
    "    \"_source\": [ \"bids\", \"user\" ],\n",
    "    \"query\" : {\n",
    "        \"term\" : { \"user\" : \"abc\" }\n",
    "    }\n",
    "}\n",
    "res = es.search(index=INDEX, doc_type=DOC_TYPE,\n",
    "           body=json.dumps(data))\n",
    "print(res['hits']['hits'][0]['_source'])"
   ]
  }
 ],
 "metadata": {
  "kernelspec": {
   "display_name": "Python 3",
   "language": "python",
   "name": "python3"
  },
  "language_info": {
   "codemirror_mode": {
    "name": "ipython",
    "version": 3
   },
   "file_extension": ".py",
   "mimetype": "text/x-python",
   "name": "python",
   "nbconvert_exporter": "python",
   "pygments_lexer": "ipython3",
   "version": "3.5.2"
  }
 },
 "nbformat": 4,
 "nbformat_minor": 2
}
