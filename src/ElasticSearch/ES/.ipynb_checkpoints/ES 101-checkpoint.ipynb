{
 "cells": [
  {
   "cell_type": "markdown",
   "metadata": {
    "slideshow": {
     "slide_type": "slide"
    }
   },
   "source": [
    "# ElasticSearch & Python\n",
    "---\n",
    "\n",
    "\n",
    "\n",
    "<h3>Ankit Maheshwari</h3>\n",
    "<br/><br/><br/>\n",
    "<div style=\"text-align: right\"> \n",
    "\n",
    "Twitter: @ankitind <br/>\n",
    "Web: www.betout.com \n",
    "\n",
    "</div>\n"
   ]
  },
  {
   "cell_type": "markdown",
   "metadata": {
    "slideshow": {
     "slide_type": "slide"
    }
   },
   "source": [
    "# 1. What is Elasticsearch\n",
    "---\n",
    "- Full-text Search Engine\n",
    "- NoSQL Database\n",
    "- Analytics Engine\n",
    "- Lucene based\n",
    "- Schemaless\n",
    "- RESTful interface\n",
    "- Inverted Indices\n",
    "- (Nearly) Real time\n",
    "- ELK Stack (Elasticsearch, Kibana, Logstash)"
   ]
  },
  {
   "cell_type": "markdown",
   "metadata": {
    "slideshow": {
     "slide_type": "slide"
    }
   },
   "source": [
    "# 2. Installing ElasticSearch\n",
    "---\n",
    "- Install via docker\n",
    "- Create a directory to store ES Data\n",
    "- Start ELK Stack\n",
    "\n",
    "> docker pull qnib/elk <br>\n",
    "> mkdir -p ~/data <br>\n",
    "> docker run -d --name elasticsearch -v ~/data:/usr/share/elasticsearch/data -p 9200:9200 elasticsearch\n",
    "\n",
    "Test the stack <br>\n",
    "ElasticsSearch http://localhost:9200 & Kibana http://localhost:5601"
   ]
  },
  {
   "cell_type": "markdown",
   "metadata": {
    "slideshow": {
     "slide_type": "slide"
    }
   },
   "source": [
    "# 3. Comparison with a RDBMS \n",
    "### like MySQL/Oracle\n",
    "\n",
    "| Relational DBs | Elasticsearch                         |\n",
    "|:---------------|:--------------------------------------|\n",
    "| Database       | Index                                 |\n",
    "| Partition      | Shard                                 |\n",
    "| Table          | Type                                  |\n",
    "| Row            | Document                              |\n",
    "| Column         | Field                                 |\n",
    "| Schema         | Mapping                               |\n",
    "| Index          | Everything is <br> already Indexed :) |\n",
    "| SQL            | DSL <br> Domain Specific Language     |\n",
    "\n"
   ]
  },
  {
   "cell_type": "markdown",
   "metadata": {
    "slideshow": {
     "slide_type": "slide"
    }
   },
   "source": [
    "### 3.2 JSON schema cheatsheet / quick reference\n",
    "\n",
    "| Javascript     | Python                                | Example                    |\n",
    "|:---------------|:--------------------------------------|:---------------------------|\n",
    "| string         | string                                | \"Name\"                     |\n",
    "| number         | int/float                             | 42                         |\n",
    "| object         | dict (dictionary)                     | {\"name\": \"sam\", \"age\": 26} |\n",
    "| array          | list                                  | [\"foo\",\"bar\", 5,\"hello\"]   |\n",
    "| boolean        | bool                                  | tr                         |\n",
    "\n"
   ]
  },
  {
   "cell_type": "markdown",
   "metadata": {
    "slideshow": {
     "slide_type": "slide"
    }
   },
   "source": [
    "3.2 Installing Python libraries "
   ]
  },
  {
   "cell_type": "code",
   "execution_count": 37,
   "metadata": {
    "slideshow": {
     "slide_type": "fragment"
    }
   },
   "outputs": [
    {
     "name": "stdout",
     "output_type": "stream",
     "text": [
      "<Elasticsearch([{'port': 9200, 'host': '34.205.15.150'}])>\n"
     ]
    }
   ],
   "source": [
    "#Few libraries we will using \n",
    "#!pip install ujson requests elasticsearch ipywidgets certifi elasticsearch_dsl\n",
    "#!pip install -U certifi\n",
    "#!pip install faker\n",
    "import faker\n",
    "import requests\n",
    "import ujson as json\n",
    "from elasticsearch import Elasticsearch\n",
    "from elasticsearch import helpers\n",
    "from elasticsearch_dsl import Search, DocType, Date, Integer, Keyword, Text\n",
    "from datetime import datetime\n",
    "from elasticsearch_dsl.connections import connections\n",
    "import pandas as pd\n",
    "from ipywidgets import interact, interactive, fixed, interact_manual, HBox, Dropdown\n",
    "from IPython.display import clear_output\n",
    "\n",
    "\n",
    "ES_HOST = 'http://34.205.15.150:9200'\n",
    "INDEX ='umbrellacorp'\n",
    "es = Elasticsearch(ES_HOST)\n",
    "print(es)\n"
   ]
  },
  {
   "cell_type": "markdown",
   "metadata": {
    "slideshow": {
     "slide_type": "slide"
    }
   },
   "source": [
    "Print all indices of Elasticsearch"
   ]
  },
  {
   "cell_type": "code",
   "execution_count": 27,
   "metadata": {
    "slideshow": {
     "slide_type": "fragment"
    }
   },
   "outputs": [
    {
     "data": {
      "text/plain": [
       "['.kibana', 'text', 'umbrellacorp']"
      ]
     },
     "execution_count": 27,
     "metadata": {},
     "output_type": "execute_result"
    }
   ],
   "source": [
    "# list all the indexes\n",
    "indices=es.indices.get_alias().keys()\n",
    "sorted(indices)"
   ]
  },
  {
   "cell_type": "markdown",
   "metadata": {
    "slideshow": {
     "slide_type": "slide"
    }
   },
   "source": [
    "# 4. Mapping\n",
    "Mapping is the process of defining how a document, and the fields it contains, are stored and indexed. \n",
    "\n",
    "#### Mapping Types\n",
    "Each index has one or more mapping types, which are used to divide the documents in an index into logical groups. \n",
    ">User documents might be stored in a user type, and blog posts in a blogpost type."
   ]
  },
  {
   "cell_type": "markdown",
   "metadata": {
    "slideshow": {
     "slide_type": "slide"
    }
   },
   "source": [
    "##### Meta-fields\n",
    ">Meta-fields are used to customize how a document’s metadata associated is treated. \n",
    "Examples of meta-fields include the document’s _index, _type, _id, and _source fields.\n",
    "\n",
    "##### Fields or properties\n",
    ">Each mapping type contains a list of fields or properties pertinent to that type. \n",
    "A user type might contain title, name, and age fields"
   ]
  },
  {
   "cell_type": "markdown",
   "metadata": {
    "slideshow": {
     "slide_type": "slide"
    }
   },
   "source": [
    "```\n",
    "PUT my_index \n",
    "{\"mappings\": {\n",
    "    \"user\": { \n",
    "      \"_all\":       { \"enabled\": false  }, \n",
    "      \"properties\": {\n",
    "        \"name\":     { \"type\": \"text\"  }, \n",
    "        \"age\":      { \"type\": \"integer\" }  \n",
    "              },//end of user\n",
    "    \"blogpost\": { \n",
    "      \"_all\":       { \"enabled\": false  }, \n",
    "      \"properties\": { \n",
    "        \"title\":    { \"type\": \"text\"  }, \n",
    "        \"body\":     { \"type\": \"text\"  }, \n",
    "        \"user_id\":  { \"type\": \"keyword\" },\n",
    "        \"created\":  { \"type\":   \"date\", \n",
    "                      \"format\": \"strict_date\" } \n",
    "                 } // end of blogpost\n",
    "      } //end of mappings\n",
    "}```"
   ]
  },
  {
   "cell_type": "markdown",
   "metadata": {
    "slideshow": {
     "slide_type": "slide"
    }
   },
   "source": [
    "# 5. Query and filter contex\n",
    "\n",
    "### Query context\n",
    "This query answers the question “How well does this document match this query clause?” Besides deciding whether or not the document matches, the query clause also calculates a _score representing how well the document matches\n",
    "\n",
    "### Filter context\n",
    "In filter context, a query clause answers the question “Does this document match this query clause?” The answer is a simple Yes or No — no scores are calculated. Filter context is mostly used for filtering structured data, e.g.\n",
    "Does this timestamp fall into the range 2015 to 2016? Is the status field set to \"published\"?"
   ]
  },
  {
   "cell_type": "markdown",
   "metadata": {
    "slideshow": {
     "slide_type": "slide"
    }
   },
   "source": [
    "## 5.1 Filter query\n",
    "- When working with exact values, we will be working with non-scoring, filtering queries. \n",
    "- Filters are important because they are very fast. \n",
    "- They do not calculate relevance (avoiding the entire scoring phase) and are easily cached.\n",
    "- We use a constant_score to convert the term query into a filter\n"
   ]
  },
  {
   "cell_type": "code",
   "execution_count": 38,
   "metadata": {
    "slideshow": {
     "slide_type": "subslide"
    }
   },
   "outputs": [],
   "source": [
    "myquery = {\"query\":  {\"constant_score\" : {\"filter\" : {\"term\" : {\"country\":\"Israel\"}}}}}\n",
    "res = es.search(index=INDEX, body=myquery)\n",
    "for items in res['hits']['hits']:\n",
    "    print(items)\n",
    "    print(items['_source']['name'] + \" (Id: \" + items['_id'] + \") has a score of: \" + str(items['_score']))"
   ]
  },
  {
   "cell_type": "markdown",
   "metadata": {
    "slideshow": {
     "slide_type": "slide"
    }
   },
   "source": [
    "## 6. Types of Queries\n",
    "Leaf Queries\n",
    "- Match all\n",
    "- Full Text\n",
    "- Term Level\n",
    ">\"query\" : {\"queryType\" : {\"fieldname\" : \"fieldvalue\"}}\n",
    "\n",
    "Compund Queries\n",
    "- Bool Query\n",
    "- Constant Score Queries\n",
    "\n",
    "\n"
   ]
  },
  {
   "cell_type": "markdown",
   "metadata": {
    "slideshow": {
     "slide_type": "slide"
    }
   },
   "source": [
    "### 6.1 Match all\n",
    "The most simple query, which matches all documents, giving them all a _score of 1.0."
   ]
  },
  {
   "cell_type": "code",
   "execution_count": 39,
   "metadata": {
    "slideshow": {
     "slide_type": "subslide"
    }
   },
   "outputs": [
    {
     "name": "stdout",
     "output_type": "stream",
     "text": [
      "Total records found: 50002\n",
      "\n",
      "1\n",
      "email: sethmatthews@example.org\n",
      "job: Sports coach\n",
      "total_discount_revenue: 58.68\n",
      "revenue: 763\n",
      "rfm_score: 21\n",
      "email_unsubscribe: False\n",
      "signup_date: 2017-04-27T21:22:06\n",
      "avg_revenue_per_month: 326.0\n",
      "address: 240 Robert Parkway Apt. 656\n",
      "Port Marissa, AR 87861-5159\n",
      "r_score: 3\n",
      "lifecycle: 7\n",
      "country: Saint Barthelemy\n",
      "f_score: 9\n",
      "num_of_orders: 10.0\n",
      "m_score: 2\n",
      "city: West Douglas\n",
      "fav_color: Gray\n",
      "name: Jacob Lewis\n",
      "discount_percentage: 29\n",
      "\n",
      "2\n",
      "email: chill@example.com\n",
      "job: Higher education careers adviser\n",
      "total_discount_revenue: 58.68\n",
      "revenue: 4602\n",
      "rfm_score: 21\n",
      "email_unsubscribe: False\n",
      "signup_date: 2017-03-17T11:26:56\n",
      "avg_revenue_per_month: 195.6\n",
      "address: 12953 James Ferry\n",
      "Moranland, SD 96287\n",
      "r_score: 8\n",
      "lifecycle: 1\n",
      "country: Israel\n",
      "f_score: 9\n",
      "num_of_orders: 10.0\n",
      "m_score: 6\n",
      "city: Smithville\n",
      "fav_color: Fuchsia\n",
      "name: Jamie Faulkner\n",
      "discount_percentage: 21\n",
      "-- breaking--\n"
     ]
    }
   ],
   "source": [
    "# save match all query as python variable\n",
    "myquery={\"query\": \n",
    "         {\"match_all\": {}}\n",
    "        }\n",
    "\n",
    "# execute the query using body parameter and return total number of records\n",
    "# select count(*) from table\n",
    "res = es.search(index=INDEX, body=myquery)  \n",
    "\n",
    "print(\"Total records found: {rec}\".format(rec=res['hits']['total']))\n",
    "for x in range(0, res['hits']['total']):\n",
    "    print(\"\\n\" + str(x+1))\n",
    "    for key, value in res['hits']['hits'][x]['_source'].items():\n",
    "        print(str(key) + \": \" + str(value))\n",
    "    if x == 1:\n",
    "        print(\"-- breaking--\")\n",
    "        break "
   ]
  },
  {
   "cell_type": "code",
   "execution_count": 45,
   "metadata": {
    "slideshow": {
     "slide_type": "subslide"
    }
   },
   "outputs": [
    {
     "data": {
      "application/vnd.jupyter.widget-view+json": {
       "model_id": "e60e37f83af745d8af9259cf41d79bb0"
      }
     },
     "metadata": {},
     "output_type": "display_data"
    }
   ],
   "source": [
    "##ALso defining field variable to be used to get all field names in susequents slides\n",
    "field=[]\n",
    "res = requests.get(ES_HOST + '/umbrellacorp/user/_mapping')\n",
    "for a in res.json()[INDEX]['mappings']['user']['properties'].keys():\n",
    "    field.append(a)\n",
    "def func(Query_type):\n",
    "    myquery={\"query\":{Query_type: {}}}\n",
    "    res = es.search(index=INDEX, body=myquery) \n",
    "    print(\"Total records found: {rec}\".format(rec=res['hits']['total']))\n",
    "    for x in range(0, res['hits']['total']):\n",
    "        print(\"\\n\" + str(x+1))\n",
    "        for key, value in res['hits']['hits'][x]['_source'].items():\n",
    "            print(str(key) + \": \" + str(value))\n",
    "        if x == 1:\n",
    "            print(\"-- breaking--\")\n",
    "            break \n",
    "\n",
    "\n",
    "interact_manual(func,  Query_type={'Get All Records':'match_all'});\n"
   ]
  },
  {
   "cell_type": "markdown",
   "metadata": {
    "slideshow": {
     "slide_type": "slide"
    }
   },
   "source": [
    "### 6.2 Full text queries\n",
    "\n",
    "\n",
    "<img src=\"https://qbox.io/img/blog/elasticsearch-queries-example.png\">"
   ]
  },
  {
   "cell_type": "markdown",
   "metadata": {
    "slideshow": {
     "slide_type": "slide"
    }
   },
   "source": [
    "### 6.2.1 Match Query\n",
    "- match queries accept text/numerics/dates, analyzes them, and constructs a query.\n",
    "- matches even if one term is match\n",
    "- more the terms better the score"
   ]
  },
  {
   "cell_type": "code",
   "execution_count": 48,
   "metadata": {
    "slideshow": {
     "slide_type": "slide"
    }
   },
   "outputs": [
    {
     "name": "stdout",
     "output_type": "stream",
     "text": [
      "Total records found: 176\n",
      "\n",
      "1\n",
      "email: chill@example.com\n",
      "job: Higher education careers adviser\n",
      "total_discount_revenue: 58.68\n",
      "revenue: 4602\n",
      "rfm_score: 21\n",
      "email_unsubscribe: False\n",
      "signup_date: 2017-03-17T11:26:56\n",
      "avg_revenue_per_month: 195.6\n",
      "address: 12953 James Ferry\n",
      "Moranland, SD 96287\n",
      "r_score: 8\n",
      "lifecycle: 1\n",
      "country: Israel\n",
      "f_score: 9\n",
      "num_of_orders: 10.0\n",
      "m_score: 6\n",
      "city: Smithville\n",
      "fav_color: Fuchsia\n",
      "name: Jamie Faulkner\n",
      "discount_percentage: 21\n",
      "\n",
      "2\n",
      "email: grossalejandro@example.org\n",
      "job: Newspaper journalist\n",
      "total_discount_revenue: 58.68\n",
      "revenue: 8764\n",
      "rfm_score: 21\n",
      "email_unsubscribe: True\n",
      "signup_date: 2017-02-28T04:53:17\n",
      "avg_revenue_per_month: 217.33333333333334\n",
      "address: 8354 Sergio Roads Apt. 426\n",
      "South Christopher, MP 40641-0898\n",
      "r_score: 3\n",
      "lifecycle: 9\n",
      "country: Singapore\n",
      "f_score: 9\n",
      "num_of_orders: 10.0\n",
      "m_score: 5\n",
      "city: Andrewland\n",
      "fav_color: GoldenRod\n",
      "name: Jacob Faulkner\n",
      "discount_percentage: 12\n",
      "-- breaking--\n"
     ]
    }
   ],
   "source": [
    "myquery={\n",
    "    \"query\": {\n",
    "        \"match\" : {\"name\" : \"Jamie Faulkner\"}\n",
    "    }}\n",
    "res = es.search(index=INDEX, body=myquery) \n",
    "print(\"Total records found: {rec}\".format(rec=res['hits']['total']))\n",
    "for x in range(0, res['hits']['total']):\n",
    "    print(\"\\n\" + str(x+1))\n",
    "    for key, value in res['hits']['hits'][x]['_source'].items():\n",
    "        print(str(key) + \": \" + str(value))\n",
    "    if x == 1:\n",
    "        print(\"-- breaking--\")\n",
    "        break "
   ]
  },
  {
   "cell_type": "code",
   "execution_count": 49,
   "metadata": {
    "slideshow": {
     "slide_type": "subslide"
    }
   },
   "outputs": [
    {
     "data": {
      "application/vnd.jupyter.widget-view+json": {
       "model_id": "0915055f3ed04c1d9baa5df93e0f0e32"
      }
     },
     "metadata": {},
     "output_type": "display_data"
    }
   ],
   "source": [
    "def func(Query_type, Dimension, Value):\n",
    "    myquery={\n",
    "    \"query\": {\n",
    "        Query_type : {Dimension : Value}\n",
    "    }}\n",
    "    res = es.search(index=INDEX, body=myquery) \n",
    "    print(\"Total records found: {rec}\".format(rec=res['hits']['total']))\n",
    "    for x in range(0, res['hits']['total']):\n",
    "        print(\"\\n\" + str(x+1))\n",
    "        for key, value in res['hits']['hits'][x]['_source'].items():\n",
    "            print(str(key) + \": \" + str(value))\n",
    "        if x == 1:\n",
    "            print(\"-- breaking--\")\n",
    "            break \n",
    "\n",
    "\n",
    "interact_manual(func,  Query_type={'Match':'match'}, Dimension = field, Value = '');"
   ]
  },
  {
   "cell_type": "markdown",
   "metadata": {
    "slideshow": {
     "slide_type": "slide"
    }
   },
   "source": [
    "### 6.2.2 \"Match Phrase\"  (match_phrase) Query\n",
    "The match_phrase query analyzes the text and only results if terms come in same order"
   ]
  },
  {
   "cell_type": "code",
   "execution_count": 51,
   "metadata": {
    "slideshow": {
     "slide_type": "fragment"
    }
   },
   "outputs": [
    {
     "name": "stdout",
     "output_type": "stream",
     "text": [
      "Total records found: 117\n",
      "\n",
      "1\n",
      "email: jamescruz@example.net\n",
      "job: Scientist, physiological\n",
      "total_discount_revenue: 58.68\n",
      "revenue: 1237\n",
      "rfm_score: 21\n",
      "email_unsubscribe: True\n",
      "signup_date: 2017-01-09T13:56:41\n",
      "avg_revenue_per_month: 652.0\n",
      "address: 208 Chapman Haven Suite 391\n",
      "Gutierrezview, ID 79514\n",
      "r_score: 2\n",
      "lifecycle: 5\n",
      "country: Russian Federation\n",
      "f_score: 8\n",
      "num_of_orders: 10.0\n",
      "m_score: 5\n",
      "city: Scottville\n",
      "fav_color: ForestGreen\n",
      "name: Samuel Gonzalez\n",
      "discount_percentage: 13\n",
      "\n",
      "2\n",
      "email: jack89@example.org\n",
      "job: Ambulance person\n",
      "total_discount_revenue: 58.68\n",
      "revenue: 4167\n",
      "rfm_score: 21\n",
      "email_unsubscribe: False\n",
      "signup_date: 2017-05-14T13:39:12\n",
      "avg_revenue_per_month: 978.0\n",
      "address: 64358 James Manor Suite 220\n",
      "Smithside, NJ 61078\n",
      "r_score: 1\n",
      "lifecycle: 6\n",
      "country: Bolivia\n",
      "f_score: 3\n",
      "num_of_orders: 10.0\n",
      "m_score: 6\n",
      "city: Burtonmouth\n",
      "fav_color: LightCyan\n",
      "name: Samuel Peterson\n",
      "discount_percentage: 21\n",
      "-- breaking--\n"
     ]
    }
   ],
   "source": [
    "myquery={ \"query\": {\n",
    "        \"match_phrase\" : { \"name\" : \"Samuel\"}\n",
    "     }}\n",
    "res = es.search(index=INDEX, body=myquery) \n",
    "print(\"Total records found: {rec}\".format(rec=res['hits']['total']))\n",
    "for x in range(0, res['hits']['total']):\n",
    "    print(\"\\n\" + str(x+1))\n",
    "    for key, value in res['hits']['hits'][x]['_source'].items():\n",
    "        print(str(key) + \": \" + str(value))\n",
    "    if x == 1:\n",
    "        print(\"-- breaking--\")\n",
    "        break "
   ]
  },
  {
   "cell_type": "code",
   "execution_count": 360,
   "metadata": {
    "slideshow": {
     "slide_type": "slide"
    }
   },
   "outputs": [
    {
     "data": {
      "application/vnd.jupyter.widget-view+json": {
       "model_id": "e11ff8fd12b84685ae14444355d77987"
      }
     },
     "metadata": {},
     "output_type": "display_data"
    }
   ],
   "source": [
    "def func(Query_type, Dimension, Value):\n",
    "    myquery={\n",
    "    \"query\": {\n",
    "        Query_type : {Dimension : Value}\n",
    "    }}\n",
    "    print(myquery)\n",
    "    res = es.search(index=\"titanic\", body=myquery) \n",
    "    print(\"Total records found: {rec}\".format(rec=res['hits']['total']))\n",
    "    for x in range(0, res['hits']['total']):\n",
    "        print(\"\\n\" + str(x+1))\n",
    "        for key, value in res['hits']['hits'][x]['_source'].items():\n",
    "            print(str(key) + \": \" + str(value))\n",
    "        if x == 1:\n",
    "            print(\"-- breaking--\")\n",
    "            break \n",
    "\n",
    "\n",
    "interact_manual(func,  Query_type={'Match':'match', 'Match Phrase':'match_phrase'}, Dimension = field, Value = '');"
   ]
  },
  {
   "cell_type": "markdown",
   "metadata": {
    "slideshow": {
     "slide_type": "slide"
    }
   },
   "source": [
    "### 6.2.3 Term Query\n",
    "While the full text queries will analyze the query string before executing, the term-level queries operate on the **exact terms** that are stored in the inverted index.\n",
    "\n",
    "These queries are usually used for structured data like numbers, dates, and enums, rather than full text fields."
   ]
  },
  {
   "cell_type": "code",
   "execution_count": 55,
   "metadata": {
    "slideshow": {
     "slide_type": "fragment"
    }
   },
   "outputs": [
    {
     "name": "stdout",
     "output_type": "stream",
     "text": [
      "email: madeline97@example.net\n",
      "job: Logistics and distribution manager\n",
      "total_discount_revenue: 58.68\n",
      "revenue: 6343\n",
      "rfm_score: 21\n",
      "email_unsubscribe: True\n",
      "signup_date: 2017-02-01T07:43:05\n",
      "avg_revenue_per_month: 326.0\n",
      "address: 415 Castro Pike Suite 945\n",
      "Wardhaven, VA 16587-3879\n",
      "r_score: 5\n",
      "lifecycle: 6\n",
      "country: British Virgin Islands\n",
      "f_score: 7\n",
      "num_of_orders: 10.0\n",
      "m_score: 9\n",
      "city: New Dawnborough\n",
      "fav_color: Red\n",
      "name: Kelli Maxwell\n",
      "discount_percentage: 3\n"
     ]
    }
   ],
   "source": [
    "myquery={\"query\": {\"term\" : { \"fav_color\" : \"red\" }  }}\n",
    "\n",
    "res = es.search(index=INDEX, body=myquery) \n",
    "for itemkey, itemvalue in res['hits']['hits'][0][\"_source\"].items():\n",
    "    print(str(itemkey) + \": \" + str(itemvalue))"
   ]
  },
  {
   "cell_type": "code",
   "execution_count": 56,
   "metadata": {
    "slideshow": {
     "slide_type": "slide"
    }
   },
   "outputs": [
    {
     "data": {
      "application/vnd.jupyter.widget-view+json": {
       "model_id": "1906d355fd194c59a11ce648e7feabc9"
      }
     },
     "metadata": {},
     "output_type": "display_data"
    }
   ],
   "source": [
    "def func(Query_type, Dimension, Value):\n",
    "    myquery={\n",
    "    \"query\": {\n",
    "        Query_type : {Dimension : Value}\n",
    "    }}\n",
    "    res = es.search(index=INDEX, body=myquery) \n",
    "    print(\"Total records found: {rec}\".format(rec=res['hits']['total']))\n",
    "    for x in range(0, res['hits']['total']):\n",
    "        print(\"\\n\" + str(x+1))\n",
    "        for key, value in res['hits']['hits'][x]['_source'].items():\n",
    "            print(str(key) + \": \" + str(value))\n",
    "        if x == 1:\n",
    "            print(\"-- breaking--\")\n",
    "            break \n",
    "\n",
    "\n",
    "interact_manual(func,  Query_type={'Match':'match', 'Match Phrase':'match_phrase', 'Absolute Phrase':'term'}, Dimension = field, Value = '');"
   ]
  },
  {
   "cell_type": "markdown",
   "metadata": {
    "slideshow": {
     "slide_type": "slide"
    }
   },
   "source": [
    "### 6.2.4 Terms query\n",
    "Filters documents that have fields that match any of the provided terms (not analyzed).\n",
    ">The terms query is also aliased with **in** as in MySQL"
   ]
  },
  {
   "cell_type": "code",
   "execution_count": 70,
   "metadata": {
    "slideshow": {
     "slide_type": "fragment"
    }
   },
   "outputs": [
    {
     "name": "stdout",
     "output_type": "stream",
     "text": [
      "Total records found - 0\n"
     ]
    }
   ],
   "source": [
    "myquery={\"query\": { \"terms\" : { \"country\" : ['Vanuatu', 'Greenland', 'Mexico']}}}\n",
    "res = es.search(index=INDEX,  body=myquery)\n",
    "print(\"Total records found - {a}\".format(a=(res['hits']['total'])))\n",
    "#print(\"Third record : {a}\".format(a=(res['hits']['hits'][0]['_source'])))"
   ]
  },
  {
   "cell_type": "markdown",
   "metadata": {
    "slideshow": {
     "slide_type": "slide"
    }
   },
   "source": [
    "### 6.2.5 Range Query\n",
    "Matches documents with fields that have terms within a certain range. \n"
   ]
  },
  {
   "cell_type": "code",
   "execution_count": 125,
   "metadata": {
    "slideshow": {
     "slide_type": "fragment"
    }
   },
   "outputs": [
    {
     "name": "stdout",
     "output_type": "stream",
     "text": [
      "Total records found - 11\n"
     ]
    }
   ],
   "source": [
    "myquery = {\"query\" : {\"range\": {\"PassengerId\":{\"gte\":990,\"lte\":1000}}}}\n",
    "res = es.search(index=INDEX,  body=myquery)\n",
    "print(\"Total records found - {a}\".format(a=res['hits']['total']))\n",
    "\n",
    "myqueryTimeExample = {\"query\" : {\"range\":{\"timestamp\":{\"gte\":\"2015-01-01 00:00:00\", \"lte\":\"now\"}}}}\n"
   ]
  },
  {
   "cell_type": "code",
   "execution_count": 71,
   "metadata": {},
   "outputs": [
    {
     "data": {
      "application/vnd.jupyter.widget-view+json": {
       "model_id": "d7d4b687bae14e35be3a0641e5d19d48"
      }
     },
     "metadata": {},
     "output_type": "display_data"
    }
   ],
   "source": [
    "def func(Query_type, Dimension,  Less_Than, Greater_Than):\n",
    "    myquery = {\"query\" : {Query_type: {Dimension:{\"gte\":Greater_Than,\"lte\":Less_Than}}}}\n",
    "    res = es.search(index=INDEX, body=myquery) \n",
    "    print(\"Total records found: {rec}\".format(rec=res['hits']['total']))\n",
    "    for x in range(0, res['hits']['total']):\n",
    "        print(\"\\n\" + str(x+1))\n",
    "        for key, value in res['hits']['hits'][x]['_source'].items():\n",
    "            print(str(key) + \": \" + str(value))\n",
    "        if x == 1:\n",
    "            print(\"-- breaking--\")\n",
    "            break \n",
    "\n",
    "\n",
    "interact_manual(func,  Query_type='range', Dimension = field,   Greater_Than = '', Less_Than = '');"
   ]
  },
  {
   "cell_type": "code",
   "execution_count": 72,
   "metadata": {
    "slideshow": {
     "slide_type": "slide"
    }
   },
   "outputs": [
    {
     "name": "stdout",
     "output_type": "stream",
     "text": [
      "0\n"
     ]
    }
   ],
   "source": [
    "## Summary of Leaf Queries\n",
    "# 1. Match_all\n",
    "q1 = {\"query\" : {\"match_all\":{}}}\n",
    "\n",
    "# 2. Match\n",
    "q2 = {\"query\" : {\"match\":{\"Sex\":\"male\"}}}\n",
    "\n",
    "# 3. Match Phrase\n",
    "q3 = {\"query\" : {\"match_phrase\":{\"Sex\":\"male\"}}}\n",
    "\n",
    "# 4. Term\n",
    "q4 = {\"query\" : {\"term\":{\"Sex\":\"male\"}}}\n",
    "\n",
    "#5. Terms\n",
    "q5 = {\"query\" : {\"terms\":{\"Sex\":[\"male\", \"female\"]}}}\n",
    "\n",
    "#6. Range\n",
    "q6 = {\"query\" : {\"range\" : {\"PassengerId\" : {\"gte\" : 1000, \"lte\" : 2000}}}}\n",
    "\n",
    "res = es.search(index=INDEX, body=q5)\n",
    "print(res['hits']['total'])\n"
   ]
  },
  {
   "cell_type": "markdown",
   "metadata": {
    "slideshow": {
     "slide_type": "slide"
    }
   },
   "source": [
    "## 7. Compound queries\n",
    "Compound queries wrap other compound or leaf queries, either to combine their results and scores, to change their behaviour, or to switch from query to filter context."
   ]
  },
  {
   "cell_type": "markdown",
   "metadata": {
    "slideshow": {
     "slide_type": "slide"
    }
   },
   "source": [
    "# 7.1 Boolean Querey\n",
    "A query that matches documents matching boolean combinations of other queries.\n",
    "bool query is composed of four sections:\n",
    "```{\n",
    "   \"bool\" : {\n",
    "      \"must\" :     [],\n",
    "      \"should\" :   [],\n",
    "      \"must_not\" : [],\n",
    "      \"filter\":    []\n",
    "   }}```"
   ]
  },
  {
   "cell_type": "code",
   "execution_count": 10,
   "metadata": {
    "slideshow": {
     "slide_type": "subslide"
    }
   },
   "outputs": [
    {
     "name": "stdout",
     "output_type": "stream",
     "text": [
      "Total count is: 2\n"
     ]
    }
   ],
   "source": [
    "myquery = {\"query\":\n",
    "               {\"bool\":{\n",
    "                    \"filter\":{\"term\":{\"Age\":\"22\"}},\n",
    "                    \"must\":{\"term\":{\"Pclass\":\"2\"}},\n",
    "                    \"must_not\":{\"term\":{\"Sex\":\"female\"}}\n",
    "                    }}}\n",
    "\n",
    "\n",
    "\n",
    "res = es.count(index=\"titanic\", body=myquery)\n",
    "print(\"Total count is: {a}\".format(a=res['count']))"
   ]
  },
  {
   "cell_type": "code",
   "execution_count": 73,
   "metadata": {
    "slideshow": {
     "slide_type": "slide"
    }
   },
   "outputs": [
    {
     "data": {
      "application/vnd.jupyter.widget-view+json": {
       "model_id": "cf575ca4793b460b89f2497ad6a5cd83"
      }
     },
     "metadata": {},
     "output_type": "display_data"
    },
    {
     "ename": "NameError",
     "evalue": "name 'display' is not defined",
     "output_type": "error",
     "traceback": [
      "\u001b[0;31m---------------------------------------------------------------------------\u001b[0m",
      "\u001b[0;31mNameError\u001b[0m                                 Traceback (most recent call last)",
      "\u001b[0;32m<ipython-input-73-a84f732b217c>\u001b[0m in \u001b[0;36m<module>\u001b[0;34m()\u001b[0m\n\u001b[1;32m     19\u001b[0m                 \u001b[0mValue\u001b[0m \u001b[0;34m=\u001b[0m \u001b[0;34m''\u001b[0m\u001b[0;34m\u001b[0m\u001b[0m\n\u001b[1;32m     20\u001b[0m                )\n\u001b[0;32m---> 21\u001b[0;31m \u001b[0mdisplay\u001b[0m\u001b[0;34m(\u001b[0m\u001b[0mi\u001b[0m\u001b[0;34m)\u001b[0m\u001b[0;34m\u001b[0m\u001b[0m\n\u001b[0m",
      "\u001b[0;31mNameError\u001b[0m: name 'display' is not defined"
     ]
    }
   ],
   "source": [
    "def func(Query_type, subQuery_type, Dimension,  Value):\n",
    "    myquery = {\"query\":{Query_type:{subQuery_type:{\"term\":{Dimension:Value}}}}}\n",
    "    res = es.search(index=INDEX, body=myquery) \n",
    "    print(myquery)\n",
    "    print(\"Total records found: {rec}\".format(rec=res['hits']['total']))\n",
    "    for x in range(0, res['hits']['total']):\n",
    "        print(\"\\n\" + str(x+1))\n",
    "        for key, value in res['hits']['hits'][x]['_source'].items():\n",
    "            print(str(key) + \": \" + str(value))\n",
    "        if x == 1:\n",
    "            print(\"-- breaking--\")\n",
    "            break \n",
    "\n",
    "           \n",
    "i =interact_manual(func,  \n",
    "                Query_type={'Compound':'bool'},\n",
    "                subQuery_type ={'Filter':'filter', 'Must have':'must', 'Must NOT have':'must_not', 'Maybe Have':'should'},\n",
    "                Dimension = field,   \n",
    "                Value = ''\n",
    "               )\n",
    "display(i)"
   ]
  }
 ],
 "metadata": {
  "celltoolbar": "Slideshow",
  "kernelspec": {
   "display_name": "Python 3",
   "language": "python",
   "name": "python3"
  },
  "language_info": {
   "codemirror_mode": {
    "name": "ipython",
    "version": 3
   },
   "file_extension": ".py",
   "mimetype": "text/x-python",
   "name": "python",
   "nbconvert_exporter": "python",
   "pygments_lexer": "ipython3",
   "version": "3.5.2"
  }
 },
 "nbformat": 4,
 "nbformat_minor": 2
}
