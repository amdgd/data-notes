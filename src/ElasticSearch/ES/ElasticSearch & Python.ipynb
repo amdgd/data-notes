{
 "cells": [
  {
   "cell_type": "markdown",
   "metadata": {},
   "source": [
    "# Managing ElasticSearch DB with Python"
   ]
  },
  {
   "cell_type": "markdown",
   "metadata": {},
   "source": [
    "#### Import/install some libraries like elasticsearch, elasticsearch-dsl, certifi, ujson\n",
    "- elasticsearch and elasticsearch-dsl are Official low-level client for Elasticsearch for python\n",
    "- certifi is  curated collection of Root Certificates for validating the trustworthiness of SSL certificates while verifying the identity of TLS hosts\n",
    "- UltraJSON is an ultra fast JSON encoder and decoder written in pure C with bindings for Python 2.5+ and 3.\n",
    "- Requests is one the best HTTP library for Python"
   ]
  },
  {
   "cell_type": "code",
   "execution_count": 20,
   "metadata": {},
   "outputs": [],
   "source": [
    "#In case these libraries are not installed\n",
    "#!pip install elasticsearch\n",
    "#!pip install elasticsearch-dsl\n",
    "#!pip install ujson \n",
    "#!pip install requests \n",
    "#!pip install -U certifi\n",
    "#!pip install docker==2.0.1\n",
    "#!pip install pandasticsearch[pandas]\n",
    "\n",
    "import requests\n",
    "import ujson as json\n",
    "from elasticsearch import Elasticsearch\n",
    "from elasticsearch import helpers\n",
    "from elasticsearch_dsl import Search, DocType, Date, Integer, Keyword, Text\n",
    "from datetime import datetime\n",
    "from elasticsearch_dsl.connections import connections\n",
    "import pandas as pd\n",
    "\n",
    "ES_HOST = 'http://ec2-52-91-189-234.compute-1.amazonaws.com:9200'\n",
    "# Define a default Elasticsearch client\n",
    "es = Elasticsearch(ES_HOST)\n"
   ]
  },
  {
   "cell_type": "code",
   "execution_count": 4,
   "metadata": {
    "collapsed": true
   },
   "outputs": [],
   "source": [
    "##Creating a Database in ElasticSearch to playwith\n",
    "FILE_URL = \"http://apps.sloanahrens.com/qbox-blog-resources/kaggle-titanic-data/test.csv\"\n",
    "INDEX_NAME = 'titanic'\n",
    "TYPE_NAME = 'passenger'\n",
    "ID_FIELD = 'passengerid'"
   ]
  },
  {
   "cell_type": "markdown",
   "metadata": {},
   "source": [
    "### List all Indices"
   ]
  },
  {
   "cell_type": "code",
   "execution_count": 5,
   "metadata": {},
   "outputs": [
    {
     "name": "stdout",
     "output_type": "stream",
     "text": [
      "There are \u001b[1m-13-\u001b[0m indices in ElasticSearch\n",
      ".kibana\n",
      "books\n",
      "index_test\n",
      "logstash-2017.05.22\n",
      "logstash-2017.05.23\n",
      "megacorp\n",
      "schools\n",
      "something\n",
      "test\n",
      "test-index\n",
      "test-index1\n",
      "test_index\n",
      "titanic\n"
     ]
    }
   ],
   "source": [
    "# list all the indices\n",
    "indices=es.indices.get_alias().keys()\n",
    "sorted(indices)\n",
    "print(\"There are \\033[1m-{x}-\\033[0m indices in ElasticSearch\".format(x=len(indices)))\n",
    "for index in sorted(indices):\n",
    "    print(index)\n"
   ]
  },
  {
   "cell_type": "code",
   "execution_count": 92,
   "metadata": {
    "scrolled": false
   },
   "outputs": [
    {
     "name": "stdout",
     "output_type": "stream",
     "text": [
      "\n",
      "1\n",
      "Cabin: D34\n",
      "Ticket: 113778\n",
      "Sex: male\n",
      "Fare: 26.55\n",
      "SibSp: 0\n",
      "Age: None\n",
      "PassengerId: 933\n",
      "Parch: 0\n",
      "Pclass: 1\n",
      "Embarked: S\n",
      "Name: Franklin, Mr. Thomas Parham\n",
      "\n",
      "2\n",
      "Cabin: None\n",
      "Ticket: 2657\n",
      "Sex: female\n",
      "Fare: 7.2292\n",
      "SibSp: 0\n",
      "Age: 18.0\n",
      "PassengerId: 900\n",
      "Parch: 0\n",
      "Pclass: 3\n",
      "Embarked: C\n",
      "Name: Abrahim, Mrs. Joseph (Sophie Halaut Easu)\n",
      "\n",
      "3\n",
      "Cabin: None\n",
      "Ticket: 237249\n",
      "Sex: female\n",
      "Fare: 13.0\n",
      "SibSp: 0\n",
      "Age: 30.0\n",
      "PassengerId: 935\n",
      "Parch: 0\n",
      "Pclass: 2\n",
      "Embarked: S\n",
      "Name: Corbett, Mrs. Walter H (Irene Colvin)\n",
      "\n",
      "--------Too many documents. We are breaking here---------\n"
     ]
    }
   ],
   "source": [
    "# save match all query as python variable\n",
    "myquery={\"query\": \n",
    "         {\"match_all\": {}\n",
    "         }}\n",
    "\n",
    "# execute the query using body parameter and return total number of records\n",
    "# select count(*) from table\n",
    "res = es.search(index=\"titanic\", body=myquery)\n",
    "for x in range(0, res['hits']['total']):\n",
    "    print(\"\\n\" + str(x+1))\n",
    "    for key, value in res['hits']['hits'][x]['_source'].items():\n",
    "        print(str(key) + \": \" + str(value))\n",
    "    if x == 2:\n",
    "      print(\"\\n--------Too many documents. We are breaking here---------\")\n",
    "      break \n",
    "        \n",
    "    \n"
   ]
  },
  {
   "cell_type": "code",
   "execution_count": 49,
   "metadata": {},
   "outputs": [
    {
     "name": "stderr",
     "output_type": "stream",
     "text": [
      "GET http://ec2-52-91-189-234.compute-1.amazonaws.com:9200/titanic/_search [status:400 request:0.004s]\n"
     ]
    },
    {
     "ename": "RequestError",
     "evalue": "TransportError(400, 'parsing_exception', '[match_all] unknown field [Name], parser not found')",
     "output_type": "error",
     "traceback": [
      "\u001b[0;31m---------------------------------------------------------------------------\u001b[0m",
      "\u001b[0;31mRequestError\u001b[0m                              Traceback (most recent call last)",
      "\u001b[0;32m<ipython-input-49-475583a98ca6>\u001b[0m in \u001b[0;36m<module>\u001b[0;34m()\u001b[0m\n\u001b[1;32m      6\u001b[0m         }, \"_source\" : \"false\"\n\u001b[1;32m      7\u001b[0m        }\n\u001b[0;32m----> 8\u001b[0;31m \u001b[0mres\u001b[0m \u001b[0;34m=\u001b[0m \u001b[0mes\u001b[0m\u001b[0;34m.\u001b[0m\u001b[0msearch\u001b[0m\u001b[0;34m(\u001b[0m\u001b[0mindex\u001b[0m\u001b[0;34m=\u001b[0m\u001b[0;34m\"titanic\"\u001b[0m\u001b[0;34m,\u001b[0m \u001b[0mbody\u001b[0m\u001b[0;34m=\u001b[0m\u001b[0mmyquery\u001b[0m\u001b[0;34m)\u001b[0m\u001b[0;34m\u001b[0m\u001b[0m\n\u001b[0m\u001b[1;32m      9\u001b[0m \u001b[0mres\u001b[0m\u001b[0;34m[\u001b[0m\u001b[0;34m'hits'\u001b[0m\u001b[0;34m]\u001b[0m\u001b[0;34m[\u001b[0m\u001b[0;34m'hits'\u001b[0m\u001b[0;34m]\u001b[0m\u001b[0;34m[\u001b[0m\u001b[0;36m0\u001b[0m\u001b[0;34m]\u001b[0m\u001b[0;34m\u001b[0m\u001b[0m\n",
      "\u001b[0;32m/opt/conda/lib/python3.5/site-packages/elasticsearch/client/utils.py\u001b[0m in \u001b[0;36m_wrapped\u001b[0;34m(*args, **kwargs)\u001b[0m\n\u001b[1;32m     71\u001b[0m                 \u001b[0;32mif\u001b[0m \u001b[0mp\u001b[0m \u001b[0;32min\u001b[0m \u001b[0mkwargs\u001b[0m\u001b[0;34m:\u001b[0m\u001b[0;34m\u001b[0m\u001b[0m\n\u001b[1;32m     72\u001b[0m                     \u001b[0mparams\u001b[0m\u001b[0;34m[\u001b[0m\u001b[0mp\u001b[0m\u001b[0;34m]\u001b[0m \u001b[0;34m=\u001b[0m \u001b[0mkwargs\u001b[0m\u001b[0;34m.\u001b[0m\u001b[0mpop\u001b[0m\u001b[0;34m(\u001b[0m\u001b[0mp\u001b[0m\u001b[0;34m)\u001b[0m\u001b[0;34m\u001b[0m\u001b[0m\n\u001b[0;32m---> 73\u001b[0;31m             \u001b[0;32mreturn\u001b[0m \u001b[0mfunc\u001b[0m\u001b[0;34m(\u001b[0m\u001b[0;34m*\u001b[0m\u001b[0margs\u001b[0m\u001b[0;34m,\u001b[0m \u001b[0mparams\u001b[0m\u001b[0;34m=\u001b[0m\u001b[0mparams\u001b[0m\u001b[0;34m,\u001b[0m \u001b[0;34m**\u001b[0m\u001b[0mkwargs\u001b[0m\u001b[0;34m)\u001b[0m\u001b[0;34m\u001b[0m\u001b[0m\n\u001b[0m\u001b[1;32m     74\u001b[0m         \u001b[0;32mreturn\u001b[0m \u001b[0m_wrapped\u001b[0m\u001b[0;34m\u001b[0m\u001b[0m\n\u001b[1;32m     75\u001b[0m     \u001b[0;32mreturn\u001b[0m \u001b[0m_wrapper\u001b[0m\u001b[0;34m\u001b[0m\u001b[0m\n",
      "\u001b[0;32m/opt/conda/lib/python3.5/site-packages/elasticsearch/client/__init__.py\u001b[0m in \u001b[0;36msearch\u001b[0;34m(self, index, doc_type, body, params)\u001b[0m\n\u001b[1;32m    621\u001b[0m             \u001b[0mindex\u001b[0m \u001b[0;34m=\u001b[0m \u001b[0;34m'_all'\u001b[0m\u001b[0;34m\u001b[0m\u001b[0m\n\u001b[1;32m    622\u001b[0m         return self.transport.perform_request('GET', _make_path(index,\n\u001b[0;32m--> 623\u001b[0;31m             doc_type, '_search'), params=params, body=body)\n\u001b[0m\u001b[1;32m    624\u001b[0m \u001b[0;34m\u001b[0m\u001b[0m\n\u001b[1;32m    625\u001b[0m     @query_params('_source', '_source_exclude', '_source_include',\n",
      "\u001b[0;32m/opt/conda/lib/python3.5/site-packages/elasticsearch/transport.py\u001b[0m in \u001b[0;36mperform_request\u001b[0;34m(self, method, url, params, body)\u001b[0m\n\u001b[1;32m    310\u001b[0m \u001b[0;34m\u001b[0m\u001b[0m\n\u001b[1;32m    311\u001b[0m             \u001b[0;32mtry\u001b[0m\u001b[0;34m:\u001b[0m\u001b[0;34m\u001b[0m\u001b[0m\n\u001b[0;32m--> 312\u001b[0;31m                 \u001b[0mstatus\u001b[0m\u001b[0;34m,\u001b[0m \u001b[0mheaders\u001b[0m\u001b[0;34m,\u001b[0m \u001b[0mdata\u001b[0m \u001b[0;34m=\u001b[0m \u001b[0mconnection\u001b[0m\u001b[0;34m.\u001b[0m\u001b[0mperform_request\u001b[0m\u001b[0;34m(\u001b[0m\u001b[0mmethod\u001b[0m\u001b[0;34m,\u001b[0m \u001b[0murl\u001b[0m\u001b[0;34m,\u001b[0m \u001b[0mparams\u001b[0m\u001b[0;34m,\u001b[0m \u001b[0mbody\u001b[0m\u001b[0;34m,\u001b[0m \u001b[0mignore\u001b[0m\u001b[0;34m=\u001b[0m\u001b[0mignore\u001b[0m\u001b[0;34m,\u001b[0m \u001b[0mtimeout\u001b[0m\u001b[0;34m=\u001b[0m\u001b[0mtimeout\u001b[0m\u001b[0;34m)\u001b[0m\u001b[0;34m\u001b[0m\u001b[0m\n\u001b[0m\u001b[1;32m    313\u001b[0m \u001b[0;34m\u001b[0m\u001b[0m\n\u001b[1;32m    314\u001b[0m             \u001b[0;32mexcept\u001b[0m \u001b[0mTransportError\u001b[0m \u001b[0;32mas\u001b[0m \u001b[0me\u001b[0m\u001b[0;34m:\u001b[0m\u001b[0;34m\u001b[0m\u001b[0m\n",
      "\u001b[0;32m/opt/conda/lib/python3.5/site-packages/elasticsearch/connection/http_urllib3.py\u001b[0m in \u001b[0;36mperform_request\u001b[0;34m(self, method, url, params, body, timeout, ignore)\u001b[0m\n\u001b[1;32m    126\u001b[0m         \u001b[0;32mif\u001b[0m \u001b[0;32mnot\u001b[0m \u001b[0;34m(\u001b[0m\u001b[0;36m200\u001b[0m \u001b[0;34m<=\u001b[0m \u001b[0mresponse\u001b[0m\u001b[0;34m.\u001b[0m\u001b[0mstatus\u001b[0m \u001b[0;34m<\u001b[0m \u001b[0;36m300\u001b[0m\u001b[0;34m)\u001b[0m \u001b[0;32mand\u001b[0m \u001b[0mresponse\u001b[0m\u001b[0;34m.\u001b[0m\u001b[0mstatus\u001b[0m \u001b[0;32mnot\u001b[0m \u001b[0;32min\u001b[0m \u001b[0mignore\u001b[0m\u001b[0;34m:\u001b[0m\u001b[0;34m\u001b[0m\u001b[0m\n\u001b[1;32m    127\u001b[0m             \u001b[0mself\u001b[0m\u001b[0;34m.\u001b[0m\u001b[0mlog_request_fail\u001b[0m\u001b[0;34m(\u001b[0m\u001b[0mmethod\u001b[0m\u001b[0;34m,\u001b[0m \u001b[0mfull_url\u001b[0m\u001b[0;34m,\u001b[0m \u001b[0murl\u001b[0m\u001b[0;34m,\u001b[0m \u001b[0mbody\u001b[0m\u001b[0;34m,\u001b[0m \u001b[0mduration\u001b[0m\u001b[0;34m,\u001b[0m \u001b[0mresponse\u001b[0m\u001b[0;34m.\u001b[0m\u001b[0mstatus\u001b[0m\u001b[0;34m,\u001b[0m \u001b[0mraw_data\u001b[0m\u001b[0;34m)\u001b[0m\u001b[0;34m\u001b[0m\u001b[0m\n\u001b[0;32m--> 128\u001b[0;31m             \u001b[0mself\u001b[0m\u001b[0;34m.\u001b[0m\u001b[0m_raise_error\u001b[0m\u001b[0;34m(\u001b[0m\u001b[0mresponse\u001b[0m\u001b[0;34m.\u001b[0m\u001b[0mstatus\u001b[0m\u001b[0;34m,\u001b[0m \u001b[0mraw_data\u001b[0m\u001b[0;34m)\u001b[0m\u001b[0;34m\u001b[0m\u001b[0m\n\u001b[0m\u001b[1;32m    129\u001b[0m \u001b[0;34m\u001b[0m\u001b[0m\n\u001b[1;32m    130\u001b[0m         self.log_request_success(method, full_url, url, body, response.status,\n",
      "\u001b[0;32m/opt/conda/lib/python3.5/site-packages/elasticsearch/connection/base.py\u001b[0m in \u001b[0;36m_raise_error\u001b[0;34m(self, status_code, raw_data)\u001b[0m\n\u001b[1;32m    123\u001b[0m             \u001b[0mlogger\u001b[0m\u001b[0;34m.\u001b[0m\u001b[0mwarning\u001b[0m\u001b[0;34m(\u001b[0m\u001b[0;34m'Undecodable raw error response from server: %s'\u001b[0m\u001b[0;34m,\u001b[0m \u001b[0merr\u001b[0m\u001b[0;34m)\u001b[0m\u001b[0;34m\u001b[0m\u001b[0m\n\u001b[1;32m    124\u001b[0m \u001b[0;34m\u001b[0m\u001b[0m\n\u001b[0;32m--> 125\u001b[0;31m         \u001b[0;32mraise\u001b[0m \u001b[0mHTTP_EXCEPTIONS\u001b[0m\u001b[0;34m.\u001b[0m\u001b[0mget\u001b[0m\u001b[0;34m(\u001b[0m\u001b[0mstatus_code\u001b[0m\u001b[0;34m,\u001b[0m \u001b[0mTransportError\u001b[0m\u001b[0;34m)\u001b[0m\u001b[0;34m(\u001b[0m\u001b[0mstatus_code\u001b[0m\u001b[0;34m,\u001b[0m \u001b[0merror_message\u001b[0m\u001b[0;34m,\u001b[0m \u001b[0madditional_info\u001b[0m\u001b[0;34m)\u001b[0m\u001b[0;34m\u001b[0m\u001b[0m\n\u001b[0m\u001b[1;32m    126\u001b[0m \u001b[0;34m\u001b[0m\u001b[0m\n\u001b[1;32m    127\u001b[0m \u001b[0;34m\u001b[0m\u001b[0m\n",
      "\u001b[0;31mRequestError\u001b[0m: TransportError(400, 'parsing_exception', '[match_all] unknown field [Name], parser not found')"
     ]
    }
   ],
   "source": [
    " myquery={\n",
    "     \"query\": {\n",
    "         \"match_all\": {\n",
    "              \"Name\" : \"Abrahim\"\n",
    "             }\n",
    "         }, \"_source\" : \"false\"\n",
    "        }\n",
    "res = es.search(index=\"titanic\", body=myquery)\n",
    "res['hits']['hits'][0]"
   ]
  },
  {
   "cell_type": "code",
   "execution_count": null,
   "metadata": {
    "collapsed": true
   },
   "outputs": [],
   "source": []
  },
  {
   "cell_type": "code",
   "execution_count": null,
   "metadata": {
    "collapsed": true
   },
   "outputs": [],
   "source": []
  },
  {
   "cell_type": "code",
   "execution_count": null,
   "metadata": {
    "collapsed": true
   },
   "outputs": [],
   "source": []
  },
  {
   "cell_type": "code",
   "execution_count": null,
   "metadata": {
    "collapsed": true
   },
   "outputs": [],
   "source": []
  },
  {
   "cell_type": "code",
   "execution_count": 19,
   "metadata": {
    "collapsed": true
   },
   "outputs": [],
   "source": []
  },
  {
   "cell_type": "code",
   "execution_count": 14,
   "metadata": {},
   "outputs": [
    {
     "data": {
      "text/plain": [
       "{'_id': '78',\n",
       " '_index': 'test',\n",
       " '_source': {'content': 'One more fox'},\n",
       " '_type': 'articles',\n",
       " '_version': 1,\n",
       " 'found': True}"
      ]
     },
     "execution_count": 14,
     "metadata": {},
     "output_type": "execute_result"
    }
   ],
   "source": [
    "\n",
    "#es.create(index=\"test\", doc_type=\"articles\", body={\"content\": \"One more fox\"})\n",
    "es.get(id='78', index=\"test\")\n",
    "\n"
   ]
  },
  {
   "cell_type": "code",
   "execution_count": 21,
   "metadata": {},
   "outputs": [
    {
     "name": "stdout",
     "output_type": "stream",
     "text": [
      "False\n"
     ]
    }
   ],
   "source": [
    "doc = {\n",
    "    'author': 'kimchy',\n",
    "    'text': 'Nothing lasts',\n",
    "    'timestamp': datetime.now(),\n",
    "}\n",
    "res = es.index(index=\"test-index\", doc_type='tweet', id=1, body=doc)\n",
    "print(res['created'])"
   ]
  },
  {
   "cell_type": "code",
   "execution_count": 63,
   "metadata": {
    "collapsed": true
   },
   "outputs": [],
   "source": [
    "s = Search(using=es, index=\"test-index\") \\\n",
    "    .filter(\"term\", category=\"search\") \\\n",
    "    .query(\"match\", title=\"Elastic\")   \\\n",
    "    .exclude(\"match\", description=\"beta\")\n",
    "\n",
    "\n",
    "s.aggs.bucket('per_tag', 'terms', field='tags') \\\n",
    "    .metric('max_lines', 'max', field='lines')\n",
    "\n",
    "response = s.execute()\n",
    "print\n",
    "for hit in response:\n",
    "    print(hit.meta.score, hit.title)\n",
    "\n",
    "for tag in response.aggregations.per_tag.buckets:\n",
    "    print(tag.key, tag.max_lines.value)"
   ]
  },
  {
   "cell_type": "code",
   "execution_count": 33,
   "metadata": {},
   "outputs": [
    {
     "name": "stdout",
     "output_type": "stream",
     "text": [
      "{'_type': 'tweet', '_index': 'test-index', '_source': {'text': 'Nothing lasts', 'timestamp': '2017-05-23T15:46:58.908242', 'author': 'kimchy'}, 'found': True, '_id': '1', '_version': 8}\n"
     ]
    }
   ],
   "source": [
    "res = es.get(index=\"test-index\", doc_type='tweet', id=1)\n",
    "print(res)"
   ]
  },
  {
   "cell_type": "code",
   "execution_count": 24,
   "metadata": {},
   "outputs": [
    {
     "data": {
      "text/plain": [
       "{'_shards': {'failed': 0, 'successful': 5, 'total': 5},\n",
       " 'hits': {'hits': [{'_id': '1',\n",
       "    '_index': 'test-index',\n",
       "    '_score': 1.0,\n",
       "    '_source': {'author': 'kimchy',\n",
       "     'text': 'Nothing lasts',\n",
       "     'timestamp': '2017-05-23T15:46:58.908242'},\n",
       "    '_type': 'tweet'}],\n",
       "  'max_score': 1.0,\n",
       "  'total': 1},\n",
       " 'timed_out': False,\n",
       " 'took': 0}"
      ]
     },
     "execution_count": 24,
     "metadata": {},
     "output_type": "execute_result"
    }
   ],
   "source": [
    "doc = {\n",
    "        \"query\": {\n",
    "                    \"match_all\": {}\n",
    "                }\n",
    "        }\n",
    "es.search(index=\"test-index\", body=doc)\n",
    "\n",
    "\n"
   ]
  },
  {
   "cell_type": "code",
   "execution_count": 85,
   "metadata": {},
   "outputs": [
    {
     "name": "stdout",
     "output_type": "stream",
     "text": [
      "{'_type': 'tweet', '_index': 'test-index', '_id': '1', '_score': 1.0, '_source': {'text': 'Nothing lasts', 'timestamp': '2017-05-23T15:46:58.908242', 'author': 'kimchy'}}\n"
     ]
    },
    {
     "data": {
      "text/html": [
       "<div>\n",
       "<table border=\"1\" class=\"dataframe\">\n",
       "  <thead>\n",
       "    <tr style=\"text-align: right;\">\n",
       "      <th></th>\n",
       "      <th>_id</th>\n",
       "      <th>_index</th>\n",
       "      <th>_score</th>\n",
       "      <th>_source.author</th>\n",
       "      <th>_source.text</th>\n",
       "      <th>_source.timestamp</th>\n",
       "      <th>_type</th>\n",
       "    </tr>\n",
       "  </thead>\n",
       "  <tbody>\n",
       "    <tr>\n",
       "      <th>0</th>\n",
       "      <td>1</td>\n",
       "      <td>test-index</td>\n",
       "      <td>1.0</td>\n",
       "      <td>kimchy</td>\n",
       "      <td>Nothing lasts</td>\n",
       "      <td>2017-05-23T15:46:58.908242</td>\n",
       "      <td>tweet</td>\n",
       "    </tr>\n",
       "  </tbody>\n",
       "</table>\n",
       "</div>"
      ],
      "text/plain": [
       "  _id      _index  _score _source.author   _source.text  \\\n",
       "0   1  test-index     1.0         kimchy  Nothing lasts   \n",
       "\n",
       "            _source.timestamp  _type  \n",
       "0  2017-05-23T15:46:58.908242  tweet  "
      ]
     },
     "execution_count": 85,
     "metadata": {},
     "output_type": "execute_result"
    }
   ],
   "source": [
    "res  = es.search(index=\"test-index\", body=doc)\n",
    "\n",
    "for hit in res['hits']['hits']:\n",
    "    print(hit)\n",
    "    \n",
    "df = json_normalize(res['hits']['hits'])\n",
    "df.head()"
   ]
  },
  {
   "cell_type": "code",
   "execution_count": 32,
   "metadata": {},
   "outputs": [
    {
     "name": "stdout",
     "output_type": "stream",
     "text": [
      "{'text': 'Nothing lasts', 'timestamp': '2017-05-23T15:46:58.908242', 'author': 'kimchy'}\n"
     ]
    }
   ],
   "source": [
    "#/test/mytype/_mapping\n",
    "\n",
    "res = es.get_source(index=\"test-index\", doc_type='tweet', id=1)\n",
    "print(res)\n",
    "res = es."
   ]
  },
  {
   "cell_type": "code",
   "execution_count": 11,
   "metadata": {},
   "outputs": [
    {
     "data": {
      "text/plain": [
       "{'error': {'index': 'test-index1',\n",
       "  'index_uuid': 'fY3utQb5T-a35zTIEjLnPg',\n",
       "  'reason': 'index [test-index1/fY3utQb5T-a35zTIEjLnPg] already exists',\n",
       "  'root_cause': [{'index': 'test-index1',\n",
       "    'index_uuid': 'fY3utQb5T-a35zTIEjLnPg',\n",
       "    'reason': 'index [test-index1/fY3utQb5T-a35zTIEjLnPg] already exists',\n",
       "    'type': 'index_already_exists_exception'}],\n",
       "  'type': 'index_already_exists_exception'},\n",
       " 'status': 400}"
      ]
     },
     "execution_count": 11,
     "metadata": {},
     "output_type": "execute_result"
    }
   ],
   "source": [
    "es.indices.create(index='test-index1', ignore=[400,404])"
   ]
  },
  {
   "cell_type": "code",
   "execution_count": 12,
   "metadata": {},
   "outputs": [
    {
     "data": {
      "text/plain": [
       "{'hits': {'hits': [{'_id': '1',\n",
       "    '_index': 'test-index',\n",
       "    '_score': 1.0,\n",
       "    '_source': {'author': 'kimchy',\n",
       "     'text': 'Nothing lasts',\n",
       "     'timestamp': '2017-05-23T13:11:43.944443'},\n",
       "    '_type': 'tweet'}]}}"
      ]
     },
     "execution_count": 12,
     "metadata": {},
     "output_type": "execute_result"
    }
   ],
   "source": [
    "es.search(index='test-index', filter_path=['hits.hits', 'hits.hits._source'])"
   ]
  },
  {
   "cell_type": "code",
   "execution_count": 13,
   "metadata": {},
   "outputs": [
    {
     "data": {
      "text/plain": [
       "{'hits': {'hits': [{'_source': {'author': 'kimchy',\n",
       "     'text': 'Nothing lasts',\n",
       "     'timestamp': '2017-05-23T13:11:43.944443'}}]}}"
      ]
     },
     "execution_count": 13,
     "metadata": {},
     "output_type": "execute_result"
    }
   ],
   "source": [
    "es.search(index='test-index', filter_path=['hits.hits._source'])"
   ]
  },
  {
   "cell_type": "code",
   "execution_count": 14,
   "metadata": {},
   "outputs": [
    {
     "data": {
      "text/plain": [
       "{'_shards': {'failed': 0, 'successful': 5, 'total': 5},\n",
       " 'hits': {'hits': [{'_id': '1',\n",
       "    '_index': 'test-index',\n",
       "    '_score': 1.0,\n",
       "    '_source': {'author': 'kimchy',\n",
       "     'text': 'Nothing lasts',\n",
       "     'timestamp': '2017-05-23T13:11:43.944443'},\n",
       "    '_type': 'tweet'}],\n",
       "  'max_score': 1.0,\n",
       "  'total': 1},\n",
       " 'timed_out': False,\n",
       " 'took': 0}"
      ]
     },
     "execution_count": 14,
     "metadata": {},
     "output_type": "execute_result"
    }
   ],
   "source": [
    "es.search(index='test-index')"
   ]
  }
 ],
 "metadata": {
  "kernelspec": {
   "display_name": "Python 3",
   "language": "python",
   "name": "python3"
  },
  "language_info": {
   "codemirror_mode": {
    "name": "ipython",
    "version": 3
   },
   "file_extension": ".py",
   "mimetype": "text/x-python",
   "name": "python",
   "nbconvert_exporter": "python",
   "pygments_lexer": "ipython3",
   "version": "3.5.2"
  }
 },
 "nbformat": 4,
 "nbformat_minor": 2
}
