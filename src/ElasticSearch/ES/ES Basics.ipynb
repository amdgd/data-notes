{
 "cells": [
  {
   "cell_type": "markdown",
   "metadata": {},
   "source": [
    "# ElasticSearch Intro\n",
    "Elasticsearch is a distributed document store. It can store and retrieve complex data structures—serialized as JSON documents\n",
    "\n",
    "#### Node \n",
    "It refers to a single running instance of Elasticsearch. Single physical and virtual server accommodates multiple nodes depending upon the capabilities of their physical resources like RAM, storage and processing power.\n",
    "\n",
    "#### Cluster \n",
    "It is a collection of one or more nodes. Cluster provides collective indexing and search capabilities across all the nodes for entire data.\n",
    "\n",
    "\n",
    "#### Shard \n",
    "Indexes are horizontally subdivided into shards. This means each shard contains all the properties of document, but contains less number of JSON objects than index. The horizontal separation makes shard an independent node, which can be store in any node. Primary shard is the original horizontal part of an index and then these primary shards are replicated into replica shards.\n",
    "\n",
    "#### Replicas \n",
    "Elasticsearch allows a user to create replicas of their indexes and shards. Replication not only helps in increasing the availability of data in case of failure, but also improves the performance of searching by carrying out a parallel search operation in these replicas"
   ]
  },
  {
   "cell_type": "markdown",
   "metadata": {},
   "source": [
    "### Document \n",
    "It is a collection of fields in a specific manner defined in JSON format. Every document belongs to a type and resides inside an index. Every document is associated with a unique identifier, called the UID.\n",
    "\n",
    "### Document metadata\n",
    "The three required metadata elements are as follows:\n",
    "#### Index \n",
    "It is a collection of different type of documents and document properties. Index also uses the concept of shards to improve the performance. For example, a set of document contains data of a social networking application.\n",
    "\n",
    "#### type\n",
    "The class of object that the document represents\n",
    "\n",
    "A type in Elasticsearch represents a class of similar documents. A type consists of a name—such as user or blogpost—and a mapping. The mapping, like a database schema, describes the fields or properties that documents of that type may have, the datatype of each field—such as string, integer, or date\n",
    "\n",
    "#### id\n",
    ">The unique identifier for the document"
   ]
  },
  {
   "cell_type": "markdown",
   "metadata": {},
   "source": [
    "\n",
    "\n",
    "#### Mapping\n",
    "Mapping is the process of defining how a document, and the fields it contains, are stored and indexed. \n",
    "For instance, use mappings to define:\n",
    "- which string fields should be treated as full text fields.\n",
    "- which fields contain numbers, dates, or geolocations.\n",
    "- whether the values of all fields in the document should be indexed into the catch-all _all field.\n",
    "- the format of date values.\n",
    "\n",
    "#### Mapping Types\n",
    "Each index has one or more mapping types, which are used to divide the documents in an index into logical groups. User documents might be stored in a user type, and blog posts in a blogpost type.\n",
    "\n",
    "Each mapping type has:\n",
    "##### Meta-fields\n",
    ">Meta-fields are used to customize how a document’s metadata associated is treated. \n",
    "Examples of meta-fields include the document’s _index, _type, _id, and _source fields.\n",
    "\n",
    "##### Fields or properties\n",
    ">Each mapping type contains a list of fields or properties pertinent to that type. \n",
    "A user type might contain title, name, and age fields, while a blogpost type might contain title, body, user_id and created fields. Fields with the same name in different mapping types in the same index must have the same mapping.\n"
   ]
  },
  {
   "cell_type": "markdown",
   "metadata": {},
   "source": [
    "### Example mapping\n",
    "A mapping for the example described above could be specified when creating the index, as follows:\n",
    "\n",
    "```\n",
    "PUT my_index \n",
    "{\n",
    "  \"mappings\": {\n",
    "    \"user\": { \n",
    "      \"_all\":       { \"enabled\": false  }, \n",
    "      \"properties\": { \n",
    "        \"title\":    { \"type\": \"text\"  }, \n",
    "        \"name\":     { \"type\": \"text\"  }, \n",
    "        \"age\":      { \"type\": \"integer\" }  \n",
    "      }\n",
    "    },\n",
    "    \"blogpost\": { \n",
    "      \"_all\":       { \"enabled\": false  }, \n",
    "      \"properties\": { \n",
    "        \"title\":    { \"type\": \"text\"  }, \n",
    "        \"body\":     { \"type\": \"text\"  }, \n",
    "        \"user_id\":  { \"type\": \"keyword\" },\n",
    "        \"created\":  {\n",
    "          \"type\":   \"date\", \n",
    "          \"format\": \"strict_date_optional_time||epoch_millis\"\n",
    "        }\n",
    "      }\n",
    "    }\n",
    "  }\n",
    "}\n",
    "```"
   ]
  },
  {
   "cell_type": "markdown",
   "metadata": {},
   "source": [
    "## Types of Queries\n",
    "- Match all\n",
    "- Full Text\n",
    "- Term Level\n",
    "\n",
    "\n",
    "### Match all\n",
    "The most simple query, which matches all documents, giving them all a _score of 1.0.\n",
    "```\n",
    "GET /_search\n",
    "{\n",
    "    \"query\": {\n",
    "        \"match_all\": {}\n",
    "    }\n",
    "}\n",
    "```\n",
    "\n",
    "### Full text queries\n",
    "The high-level full text queries are usually used for running full text queries on full text fields like the body of an email. They understand how the field being queried is analyzed and will apply each field’s analyzer (or search_analyzer) to the query string before executing.\n",
    "\n",
    "### Term level queries\n",
    "While the full text queries will analyze the query string before executing, the term-level queries operate on the exact terms that are stored in the inverted index.\n",
    "\n",
    "These queries are usually used for structured data like numbers, dates, and enums, rather than full text fields. Alternatively, they allow you to craft low-level queries, foregoing the analysis process.\n",
    "\n",
    "### Compound queries\n",
    "Compound queries wrap other compound or leaf queries, either to combine their results and scores, to change their behaviour, or to switch from query to filter context."
   ]
  },
  {
   "cell_type": "markdown",
   "metadata": {},
   "source": [
    "## Types of Searching\n",
    "- query string \n",
    "- query DSL"
   ]
  },
  {
   "cell_type": "markdown",
   "metadata": {},
   "source": [
    "### Query String\n",
    "This method uses only a URL to perform searches, and the search query is defined by using a q query parameter. It is usually used for simple queries and ad-hoc queries on the command line, but it does also support rather advances queries. Below is an example of how a query could look like.\n",
    "\n",
    ">GET http://localhost:9200/index-name/index-type/_search?q=searchterm\n",
    "\n",
    "The URL specifies the endpoint of the Elasticsearch cluster and searches for documents of the product mapping type within the ecommerce index. The _search API is used to perform the search, and the search query is specified as a query parameter. All fields are searched by default. This HTTP GET request is all it takes to performing a search in Elasticsearch."
   ]
  },
  {
   "cell_type": "markdown",
   "metadata": {},
   "source": [
    "## Relevancy & Scoring\n",
    "Elasticsearch calculates a score for each document that matches a given query and ranks the documents according to the score. The higher the score, the more relevant the document is to the search query. \n",
    "\n",
    "When searching, there are two different contexts where queries can be applied; \n",
    "- query context and \n",
    "- filter context. \n",
    "\n",
    "#### Query Context\n",
    "Queries within the query context answer the question “how well does the document match?”, assuming that it does match. \n",
    "\n",
    "#### Filter Context\n",
    "Queries applied in the filter context answer the question “does the document match?” If a document does not match a filter, then it is discarded and will not be part of the results. It is important to note that filters do not affect the scores of matching documents, but rather filters documents out that do not satisfy the requirements of the filters."
   ]
  }
 ],
 "metadata": {
  "kernelspec": {
   "display_name": "Python 3",
   "language": "python",
   "name": "python3"
  },
  "language_info": {
   "codemirror_mode": {
    "name": "ipython",
    "version": 3
   },
   "file_extension": ".py",
   "mimetype": "text/x-python",
   "name": "python",
   "nbconvert_exporter": "python",
   "pygments_lexer": "ipython3",
   "version": "3.5.2"
  }
 },
 "nbformat": 4,
 "nbformat_minor": 2
}
