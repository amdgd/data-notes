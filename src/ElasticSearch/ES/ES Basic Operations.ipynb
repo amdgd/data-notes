{
 "cells": [
  {
   "cell_type": "code",
   "execution_count": 2,
   "metadata": {},
   "outputs": [],
   "source": [
    "from elasticsearch import Elasticsearch\n",
    "import requests\n",
    "import json\n",
    "\n",
    "ES_HOST = 'http://34.205.15.150:9200'\n",
    "INDEX = \"umbrellacorp\"\n",
    "DOC_TYPE=\"user\"\n",
    "es = Elasticsearch(ES_HOST)"
   ]
  },
  {
   "cell_type": "code",
   "execution_count": 3,
   "metadata": {},
   "outputs": [
    {
     "name": "stdout",
     "output_type": "stream",
     "text": [
      "dict_keys(['.kibana', 'text', 'umbrellacorp'])\n"
     ]
    },
    {
     "data": {
      "text/plain": [
       "['.kibana', 'text', 'umbrellacorp']"
      ]
     },
     "execution_count": 3,
     "metadata": {},
     "output_type": "execute_result"
    }
   ],
   "source": [
    "#Get all Indices\n",
    "indices=es.indices.get_alias()\n",
    "print(indices.keys())\n",
    "sorted(indices.keys())\n"
   ]
  },
  {
   "cell_type": "code",
   "execution_count": 6,
   "metadata": {},
   "outputs": [
    {
     "name": "stdout",
     "output_type": "stream",
     "text": [
      "yellow open umbrellacorp 9rI8-cbMSRa3wyawxF8E7A 5 1 50002 0 38.5mb 38.5mb\n",
      "yellow open .kibana      RSbEwVVeR_eOSyu1Rqwn4g 1 1     1 0  3.1kb  3.1kb\n",
      "yellow open text         4AZZQo7sS0SUBzqmMp1wtw 5 1     0 0   650b   650b\n",
      "\n"
     ]
    }
   ],
   "source": [
    "res = requests.get(ES_HOST + '/_cat/indices?pretty')\n",
    "print(res.text)\n",
    "\n",
    "\n",
    "\n"
   ]
  }
 ],
 "metadata": {
  "kernelspec": {
   "display_name": "Python 3",
   "language": "python",
   "name": "python3"
  },
  "language_info": {
   "codemirror_mode": {
    "name": "ipython",
    "version": 3
   },
   "file_extension": ".py",
   "mimetype": "text/x-python",
   "name": "python",
   "nbconvert_exporter": "python",
   "pygments_lexer": "ipython3",
   "version": "3.5.2"
  }
 },
 "nbformat": 4,
 "nbformat_minor": 2
}
